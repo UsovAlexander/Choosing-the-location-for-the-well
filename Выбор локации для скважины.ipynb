{
 "cells": [
  {
   "cell_type": "markdown",
   "metadata": {},
   "source": [
    "# Выбор локации для скважины"
   ]
  },
  {
   "cell_type": "markdown",
   "metadata": {},
   "source": [
    "Допустим, вы работаете в добывающей компании «ГлавРосГосНефть». Нужно решить, где бурить новую скважину.\n",
    "\n",
    "Нам предоставлены пробы нефти в трёх регионах: в каждом 10 000 месторождений, где измерили качество нефти и объём её запасов. Построим модель машинного обучения, которая поможет определить регион, где добыча принесёт наибольшую прибыль. Проанализируем возможную прибыль и риски техникой *Bootstrap.*\n",
    "\n",
    "Шаги для выбора локации:\n",
    "\n",
    "- В избранном регионе ищем месторождения, для каждого определяем значения признаков;\n",
    "- Строим модель и оцениваем объём запасов;\n",
    "- Выбираем месторождения с самым высокими оценками значений. Количество месторождений зависит от бюджета компании и стоимости разработки одной скважины;\n",
    "- Прибыль равна суммарной прибыли отобранных месторождений."
   ]
  },
  {
   "cell_type": "markdown",
   "metadata": {},
   "source": [
    "## Загрузка и подготовка данных"
   ]
  },
  {
   "cell_type": "code",
   "execution_count": 2,
   "metadata": {},
   "outputs": [],
   "source": [
    "#Загрузка необходим библиотек\n",
    "import pandas as pd\n",
    "import numpy as np\n",
    "from sklearn.model_selection import train_test_split\n",
    "from sklearn.linear_model import LinearRegression\n",
    "from sklearn.metrics import mean_squared_error"
   ]
  },
  {
   "cell_type": "code",
   "execution_count": 3,
   "metadata": {},
   "outputs": [],
   "source": [
    "#Загрузка датасетов\n",
    "data_0 = pd.read_csv('/datasets/geo_data_0.csv')\n",
    "data_1 = pd.read_csv('/datasets/geo_data_1.csv')\n",
    "data_2 = pd.read_csv('/datasets/geo_data_2.csv')"
   ]
  },
  {
   "cell_type": "markdown",
   "metadata": {},
   "source": [
    "### Подготовка первого датасета"
   ]
  },
  {
   "cell_type": "code",
   "execution_count": 4,
   "metadata": {},
   "outputs": [
    {
     "data": {
      "text/html": [
       "<div>\n",
       "<style scoped>\n",
       "    .dataframe tbody tr th:only-of-type {\n",
       "        vertical-align: middle;\n",
       "    }\n",
       "\n",
       "    .dataframe tbody tr th {\n",
       "        vertical-align: top;\n",
       "    }\n",
       "\n",
       "    .dataframe thead th {\n",
       "        text-align: right;\n",
       "    }\n",
       "</style>\n",
       "<table border=\"1\" class=\"dataframe\">\n",
       "  <thead>\n",
       "    <tr style=\"text-align: right;\">\n",
       "      <th></th>\n",
       "      <th>id</th>\n",
       "      <th>f0</th>\n",
       "      <th>f1</th>\n",
       "      <th>f2</th>\n",
       "      <th>product</th>\n",
       "    </tr>\n",
       "  </thead>\n",
       "  <tbody>\n",
       "    <tr>\n",
       "      <th>0</th>\n",
       "      <td>txEyH</td>\n",
       "      <td>0.705745</td>\n",
       "      <td>-0.497823</td>\n",
       "      <td>1.221170</td>\n",
       "      <td>105.280062</td>\n",
       "    </tr>\n",
       "    <tr>\n",
       "      <th>1</th>\n",
       "      <td>2acmU</td>\n",
       "      <td>1.334711</td>\n",
       "      <td>-0.340164</td>\n",
       "      <td>4.365080</td>\n",
       "      <td>73.037750</td>\n",
       "    </tr>\n",
       "    <tr>\n",
       "      <th>2</th>\n",
       "      <td>409Wp</td>\n",
       "      <td>1.022732</td>\n",
       "      <td>0.151990</td>\n",
       "      <td>1.419926</td>\n",
       "      <td>85.265647</td>\n",
       "    </tr>\n",
       "    <tr>\n",
       "      <th>3</th>\n",
       "      <td>iJLyR</td>\n",
       "      <td>-0.032172</td>\n",
       "      <td>0.139033</td>\n",
       "      <td>2.978566</td>\n",
       "      <td>168.620776</td>\n",
       "    </tr>\n",
       "    <tr>\n",
       "      <th>4</th>\n",
       "      <td>Xdl7t</td>\n",
       "      <td>1.988431</td>\n",
       "      <td>0.155413</td>\n",
       "      <td>4.751769</td>\n",
       "      <td>154.036647</td>\n",
       "    </tr>\n",
       "  </tbody>\n",
       "</table>\n",
       "</div>"
      ],
      "text/plain": [
       "      id        f0        f1        f2     product\n",
       "0  txEyH  0.705745 -0.497823  1.221170  105.280062\n",
       "1  2acmU  1.334711 -0.340164  4.365080   73.037750\n",
       "2  409Wp  1.022732  0.151990  1.419926   85.265647\n",
       "3  iJLyR -0.032172  0.139033  2.978566  168.620776\n",
       "4  Xdl7t  1.988431  0.155413  4.751769  154.036647"
      ]
     },
     "execution_count": 4,
     "metadata": {},
     "output_type": "execute_result"
    }
   ],
   "source": [
    "data_0.head()"
   ]
  },
  {
   "cell_type": "code",
   "execution_count": 5,
   "metadata": {},
   "outputs": [
    {
     "data": {
      "text/plain": [
       "id         0\n",
       "f0         0\n",
       "f1         0\n",
       "f2         0\n",
       "product    0\n",
       "dtype: int64"
      ]
     },
     "execution_count": 5,
     "metadata": {},
     "output_type": "execute_result"
    }
   ],
   "source": [
    "#Проверка на пропуски\n",
    "data_0.isna().sum()"
   ]
  },
  {
   "cell_type": "code",
   "execution_count": 6,
   "metadata": {},
   "outputs": [
    {
     "data": {
      "text/plain": [
       "0"
      ]
     },
     "execution_count": 6,
     "metadata": {},
     "output_type": "execute_result"
    }
   ],
   "source": [
    "#Проверка явных дубликатов\n",
    "data_0.duplicated().sum()"
   ]
  },
  {
   "cell_type": "code",
   "execution_count": 7,
   "metadata": {},
   "outputs": [
    {
     "name": "stdout",
     "output_type": "stream",
     "text": [
      "<class 'pandas.core.frame.DataFrame'>\n",
      "RangeIndex: 100000 entries, 0 to 99999\n",
      "Data columns (total 5 columns):\n",
      " #   Column   Non-Null Count   Dtype  \n",
      "---  ------   --------------   -----  \n",
      " 0   id       100000 non-null  object \n",
      " 1   f0       100000 non-null  float64\n",
      " 2   f1       100000 non-null  float64\n",
      " 3   f2       100000 non-null  float64\n",
      " 4   product  100000 non-null  float64\n",
      "dtypes: float64(4), object(1)\n",
      "memory usage: 3.8+ MB\n"
     ]
    }
   ],
   "source": [
    "#Проверка на корректность типов данных в столбцах\n",
    "data_0.info()"
   ]
  },
  {
   "cell_type": "markdown",
   "metadata": {},
   "source": [
    "Удалим столбец, т.к. он несет никакой смысловой нагрузки для обучения"
   ]
  },
  {
   "cell_type": "code",
   "execution_count": 8,
   "metadata": {},
   "outputs": [],
   "source": [
    "X_0 = data_0.drop(['id', 'product'], axis=1)\n",
    "y_0 = data_0['product']"
   ]
  },
  {
   "cell_type": "code",
   "execution_count": 9,
   "metadata": {
    "scrolled": true
   },
   "outputs": [
    {
     "data": {
      "text/html": [
       "<div>\n",
       "<style scoped>\n",
       "    .dataframe tbody tr th:only-of-type {\n",
       "        vertical-align: middle;\n",
       "    }\n",
       "\n",
       "    .dataframe tbody tr th {\n",
       "        vertical-align: top;\n",
       "    }\n",
       "\n",
       "    .dataframe thead th {\n",
       "        text-align: right;\n",
       "    }\n",
       "</style>\n",
       "<table border=\"1\" class=\"dataframe\">\n",
       "  <thead>\n",
       "    <tr style=\"text-align: right;\">\n",
       "      <th></th>\n",
       "      <th>f0</th>\n",
       "      <th>f1</th>\n",
       "      <th>f2</th>\n",
       "    </tr>\n",
       "  </thead>\n",
       "  <tbody>\n",
       "    <tr>\n",
       "      <th>0</th>\n",
       "      <td>0.705745</td>\n",
       "      <td>-0.497823</td>\n",
       "      <td>1.221170</td>\n",
       "    </tr>\n",
       "    <tr>\n",
       "      <th>1</th>\n",
       "      <td>1.334711</td>\n",
       "      <td>-0.340164</td>\n",
       "      <td>4.365080</td>\n",
       "    </tr>\n",
       "    <tr>\n",
       "      <th>2</th>\n",
       "      <td>1.022732</td>\n",
       "      <td>0.151990</td>\n",
       "      <td>1.419926</td>\n",
       "    </tr>\n",
       "    <tr>\n",
       "      <th>3</th>\n",
       "      <td>-0.032172</td>\n",
       "      <td>0.139033</td>\n",
       "      <td>2.978566</td>\n",
       "    </tr>\n",
       "    <tr>\n",
       "      <th>4</th>\n",
       "      <td>1.988431</td>\n",
       "      <td>0.155413</td>\n",
       "      <td>4.751769</td>\n",
       "    </tr>\n",
       "  </tbody>\n",
       "</table>\n",
       "</div>"
      ],
      "text/plain": [
       "         f0        f1        f2\n",
       "0  0.705745 -0.497823  1.221170\n",
       "1  1.334711 -0.340164  4.365080\n",
       "2  1.022732  0.151990  1.419926\n",
       "3 -0.032172  0.139033  2.978566\n",
       "4  1.988431  0.155413  4.751769"
      ]
     },
     "execution_count": 9,
     "metadata": {},
     "output_type": "execute_result"
    }
   ],
   "source": [
    "X_0.head()"
   ]
  },
  {
   "cell_type": "code",
   "execution_count": 10,
   "metadata": {
    "scrolled": false
   },
   "outputs": [
    {
     "data": {
      "text/plain": [
       "0    105.280062\n",
       "1     73.037750\n",
       "2     85.265647\n",
       "3    168.620776\n",
       "4    154.036647\n",
       "Name: product, dtype: float64"
      ]
     },
     "execution_count": 10,
     "metadata": {},
     "output_type": "execute_result"
    }
   ],
   "source": [
    "y_0.head()"
   ]
  },
  {
   "cell_type": "code",
   "execution_count": 11,
   "metadata": {},
   "outputs": [],
   "source": [
    "X_0_train, X_0_valid, y_0_train, y_0_valid = train_test_split(X_0, y_0, test_size=0.25, random_state=12345)"
   ]
  },
  {
   "cell_type": "markdown",
   "metadata": {},
   "source": [
    "### Подготовка второго датасета"
   ]
  },
  {
   "cell_type": "code",
   "execution_count": 12,
   "metadata": {},
   "outputs": [
    {
     "data": {
      "text/html": [
       "<div>\n",
       "<style scoped>\n",
       "    .dataframe tbody tr th:only-of-type {\n",
       "        vertical-align: middle;\n",
       "    }\n",
       "\n",
       "    .dataframe tbody tr th {\n",
       "        vertical-align: top;\n",
       "    }\n",
       "\n",
       "    .dataframe thead th {\n",
       "        text-align: right;\n",
       "    }\n",
       "</style>\n",
       "<table border=\"1\" class=\"dataframe\">\n",
       "  <thead>\n",
       "    <tr style=\"text-align: right;\">\n",
       "      <th></th>\n",
       "      <th>id</th>\n",
       "      <th>f0</th>\n",
       "      <th>f1</th>\n",
       "      <th>f2</th>\n",
       "      <th>product</th>\n",
       "    </tr>\n",
       "  </thead>\n",
       "  <tbody>\n",
       "    <tr>\n",
       "      <th>0</th>\n",
       "      <td>kBEdx</td>\n",
       "      <td>-15.001348</td>\n",
       "      <td>-8.276000</td>\n",
       "      <td>-0.005876</td>\n",
       "      <td>3.179103</td>\n",
       "    </tr>\n",
       "    <tr>\n",
       "      <th>1</th>\n",
       "      <td>62mP7</td>\n",
       "      <td>14.272088</td>\n",
       "      <td>-3.475083</td>\n",
       "      <td>0.999183</td>\n",
       "      <td>26.953261</td>\n",
       "    </tr>\n",
       "    <tr>\n",
       "      <th>2</th>\n",
       "      <td>vyE1P</td>\n",
       "      <td>6.263187</td>\n",
       "      <td>-5.948386</td>\n",
       "      <td>5.001160</td>\n",
       "      <td>134.766305</td>\n",
       "    </tr>\n",
       "    <tr>\n",
       "      <th>3</th>\n",
       "      <td>KcrkZ</td>\n",
       "      <td>-13.081196</td>\n",
       "      <td>-11.506057</td>\n",
       "      <td>4.999415</td>\n",
       "      <td>137.945408</td>\n",
       "    </tr>\n",
       "    <tr>\n",
       "      <th>4</th>\n",
       "      <td>AHL4O</td>\n",
       "      <td>12.702195</td>\n",
       "      <td>-8.147433</td>\n",
       "      <td>5.004363</td>\n",
       "      <td>134.766305</td>\n",
       "    </tr>\n",
       "  </tbody>\n",
       "</table>\n",
       "</div>"
      ],
      "text/plain": [
       "      id         f0         f1        f2     product\n",
       "0  kBEdx -15.001348  -8.276000 -0.005876    3.179103\n",
       "1  62mP7  14.272088  -3.475083  0.999183   26.953261\n",
       "2  vyE1P   6.263187  -5.948386  5.001160  134.766305\n",
       "3  KcrkZ -13.081196 -11.506057  4.999415  137.945408\n",
       "4  AHL4O  12.702195  -8.147433  5.004363  134.766305"
      ]
     },
     "execution_count": 12,
     "metadata": {},
     "output_type": "execute_result"
    }
   ],
   "source": [
    "data_1.head()"
   ]
  },
  {
   "cell_type": "code",
   "execution_count": 13,
   "metadata": {},
   "outputs": [
    {
     "data": {
      "text/plain": [
       "id         0\n",
       "f0         0\n",
       "f1         0\n",
       "f2         0\n",
       "product    0\n",
       "dtype: int64"
      ]
     },
     "execution_count": 13,
     "metadata": {},
     "output_type": "execute_result"
    }
   ],
   "source": [
    "#Проверка на пропуски\n",
    "data_1.isna().sum()"
   ]
  },
  {
   "cell_type": "code",
   "execution_count": 14,
   "metadata": {},
   "outputs": [
    {
     "data": {
      "text/plain": [
       "0"
      ]
     },
     "execution_count": 14,
     "metadata": {},
     "output_type": "execute_result"
    }
   ],
   "source": [
    "#Проверка явных дубликатов\n",
    "data_1.duplicated().sum()"
   ]
  },
  {
   "cell_type": "code",
   "execution_count": 15,
   "metadata": {},
   "outputs": [
    {
     "name": "stdout",
     "output_type": "stream",
     "text": [
      "<class 'pandas.core.frame.DataFrame'>\n",
      "RangeIndex: 100000 entries, 0 to 99999\n",
      "Data columns (total 5 columns):\n",
      " #   Column   Non-Null Count   Dtype  \n",
      "---  ------   --------------   -----  \n",
      " 0   id       100000 non-null  object \n",
      " 1   f0       100000 non-null  float64\n",
      " 2   f1       100000 non-null  float64\n",
      " 3   f2       100000 non-null  float64\n",
      " 4   product  100000 non-null  float64\n",
      "dtypes: float64(4), object(1)\n",
      "memory usage: 3.8+ MB\n"
     ]
    }
   ],
   "source": [
    "#Проверка на корректность типов данных в столбцах\n",
    "data_1.info()"
   ]
  },
  {
   "cell_type": "code",
   "execution_count": 16,
   "metadata": {},
   "outputs": [],
   "source": [
    "X_1 = data_1.drop(['id', 'product'], axis=1)\n",
    "y_1 = data_1['product']"
   ]
  },
  {
   "cell_type": "code",
   "execution_count": 17,
   "metadata": {},
   "outputs": [
    {
     "data": {
      "text/html": [
       "<div>\n",
       "<style scoped>\n",
       "    .dataframe tbody tr th:only-of-type {\n",
       "        vertical-align: middle;\n",
       "    }\n",
       "\n",
       "    .dataframe tbody tr th {\n",
       "        vertical-align: top;\n",
       "    }\n",
       "\n",
       "    .dataframe thead th {\n",
       "        text-align: right;\n",
       "    }\n",
       "</style>\n",
       "<table border=\"1\" class=\"dataframe\">\n",
       "  <thead>\n",
       "    <tr style=\"text-align: right;\">\n",
       "      <th></th>\n",
       "      <th>f0</th>\n",
       "      <th>f1</th>\n",
       "      <th>f2</th>\n",
       "    </tr>\n",
       "  </thead>\n",
       "  <tbody>\n",
       "    <tr>\n",
       "      <th>0</th>\n",
       "      <td>-15.001348</td>\n",
       "      <td>-8.276000</td>\n",
       "      <td>-0.005876</td>\n",
       "    </tr>\n",
       "    <tr>\n",
       "      <th>1</th>\n",
       "      <td>14.272088</td>\n",
       "      <td>-3.475083</td>\n",
       "      <td>0.999183</td>\n",
       "    </tr>\n",
       "    <tr>\n",
       "      <th>2</th>\n",
       "      <td>6.263187</td>\n",
       "      <td>-5.948386</td>\n",
       "      <td>5.001160</td>\n",
       "    </tr>\n",
       "    <tr>\n",
       "      <th>3</th>\n",
       "      <td>-13.081196</td>\n",
       "      <td>-11.506057</td>\n",
       "      <td>4.999415</td>\n",
       "    </tr>\n",
       "    <tr>\n",
       "      <th>4</th>\n",
       "      <td>12.702195</td>\n",
       "      <td>-8.147433</td>\n",
       "      <td>5.004363</td>\n",
       "    </tr>\n",
       "  </tbody>\n",
       "</table>\n",
       "</div>"
      ],
      "text/plain": [
       "          f0         f1        f2\n",
       "0 -15.001348  -8.276000 -0.005876\n",
       "1  14.272088  -3.475083  0.999183\n",
       "2   6.263187  -5.948386  5.001160\n",
       "3 -13.081196 -11.506057  4.999415\n",
       "4  12.702195  -8.147433  5.004363"
      ]
     },
     "execution_count": 17,
     "metadata": {},
     "output_type": "execute_result"
    }
   ],
   "source": [
    "X_1.head()"
   ]
  },
  {
   "cell_type": "code",
   "execution_count": 18,
   "metadata": {
    "scrolled": true
   },
   "outputs": [
    {
     "data": {
      "text/plain": [
       "0      3.179103\n",
       "1     26.953261\n",
       "2    134.766305\n",
       "3    137.945408\n",
       "4    134.766305\n",
       "Name: product, dtype: float64"
      ]
     },
     "execution_count": 18,
     "metadata": {},
     "output_type": "execute_result"
    }
   ],
   "source": [
    "y_1.head()"
   ]
  },
  {
   "cell_type": "code",
   "execution_count": 19,
   "metadata": {},
   "outputs": [],
   "source": [
    "X_1_train, X_1_valid, y_1_train, y_1_valid = train_test_split(X_1, y_1, test_size=0.25, random_state=12345)"
   ]
  },
  {
   "cell_type": "markdown",
   "metadata": {},
   "source": [
    "### Подготовка третьего датасета"
   ]
  },
  {
   "cell_type": "code",
   "execution_count": 20,
   "metadata": {
    "scrolled": true
   },
   "outputs": [
    {
     "data": {
      "text/html": [
       "<div>\n",
       "<style scoped>\n",
       "    .dataframe tbody tr th:only-of-type {\n",
       "        vertical-align: middle;\n",
       "    }\n",
       "\n",
       "    .dataframe tbody tr th {\n",
       "        vertical-align: top;\n",
       "    }\n",
       "\n",
       "    .dataframe thead th {\n",
       "        text-align: right;\n",
       "    }\n",
       "</style>\n",
       "<table border=\"1\" class=\"dataframe\">\n",
       "  <thead>\n",
       "    <tr style=\"text-align: right;\">\n",
       "      <th></th>\n",
       "      <th>id</th>\n",
       "      <th>f0</th>\n",
       "      <th>f1</th>\n",
       "      <th>f2</th>\n",
       "      <th>product</th>\n",
       "    </tr>\n",
       "  </thead>\n",
       "  <tbody>\n",
       "    <tr>\n",
       "      <th>0</th>\n",
       "      <td>fwXo0</td>\n",
       "      <td>-1.146987</td>\n",
       "      <td>0.963328</td>\n",
       "      <td>-0.828965</td>\n",
       "      <td>27.758673</td>\n",
       "    </tr>\n",
       "    <tr>\n",
       "      <th>1</th>\n",
       "      <td>WJtFt</td>\n",
       "      <td>0.262778</td>\n",
       "      <td>0.269839</td>\n",
       "      <td>-2.530187</td>\n",
       "      <td>56.069697</td>\n",
       "    </tr>\n",
       "    <tr>\n",
       "      <th>2</th>\n",
       "      <td>ovLUW</td>\n",
       "      <td>0.194587</td>\n",
       "      <td>0.289035</td>\n",
       "      <td>-5.586433</td>\n",
       "      <td>62.871910</td>\n",
       "    </tr>\n",
       "    <tr>\n",
       "      <th>3</th>\n",
       "      <td>q6cA6</td>\n",
       "      <td>2.236060</td>\n",
       "      <td>-0.553760</td>\n",
       "      <td>0.930038</td>\n",
       "      <td>114.572842</td>\n",
       "    </tr>\n",
       "    <tr>\n",
       "      <th>4</th>\n",
       "      <td>WPMUX</td>\n",
       "      <td>-0.515993</td>\n",
       "      <td>1.716266</td>\n",
       "      <td>5.899011</td>\n",
       "      <td>149.600746</td>\n",
       "    </tr>\n",
       "  </tbody>\n",
       "</table>\n",
       "</div>"
      ],
      "text/plain": [
       "      id        f0        f1        f2     product\n",
       "0  fwXo0 -1.146987  0.963328 -0.828965   27.758673\n",
       "1  WJtFt  0.262778  0.269839 -2.530187   56.069697\n",
       "2  ovLUW  0.194587  0.289035 -5.586433   62.871910\n",
       "3  q6cA6  2.236060 -0.553760  0.930038  114.572842\n",
       "4  WPMUX -0.515993  1.716266  5.899011  149.600746"
      ]
     },
     "execution_count": 20,
     "metadata": {},
     "output_type": "execute_result"
    }
   ],
   "source": [
    "data_2.head()"
   ]
  },
  {
   "cell_type": "code",
   "execution_count": 21,
   "metadata": {},
   "outputs": [
    {
     "data": {
      "text/plain": [
       "id         0\n",
       "f0         0\n",
       "f1         0\n",
       "f2         0\n",
       "product    0\n",
       "dtype: int64"
      ]
     },
     "execution_count": 21,
     "metadata": {},
     "output_type": "execute_result"
    }
   ],
   "source": [
    "#Проверка на пропуски\n",
    "data_1.isna().sum()"
   ]
  },
  {
   "cell_type": "code",
   "execution_count": 22,
   "metadata": {},
   "outputs": [
    {
     "data": {
      "text/plain": [
       "0"
      ]
     },
     "execution_count": 22,
     "metadata": {},
     "output_type": "execute_result"
    }
   ],
   "source": [
    "#Проверка явных дубликатов\n",
    "data_1.duplicated().sum()"
   ]
  },
  {
   "cell_type": "code",
   "execution_count": 23,
   "metadata": {},
   "outputs": [
    {
     "name": "stdout",
     "output_type": "stream",
     "text": [
      "<class 'pandas.core.frame.DataFrame'>\n",
      "RangeIndex: 100000 entries, 0 to 99999\n",
      "Data columns (total 5 columns):\n",
      " #   Column   Non-Null Count   Dtype  \n",
      "---  ------   --------------   -----  \n",
      " 0   id       100000 non-null  object \n",
      " 1   f0       100000 non-null  float64\n",
      " 2   f1       100000 non-null  float64\n",
      " 3   f2       100000 non-null  float64\n",
      " 4   product  100000 non-null  float64\n",
      "dtypes: float64(4), object(1)\n",
      "memory usage: 3.8+ MB\n"
     ]
    }
   ],
   "source": [
    "#Проверка на корректность типов данных в столбцах\n",
    "data_1.info()"
   ]
  },
  {
   "cell_type": "code",
   "execution_count": 24,
   "metadata": {},
   "outputs": [],
   "source": [
    "X_2 = data_2.drop(['id', 'product'], axis=1)\n",
    "y_2 = data_2['product']"
   ]
  },
  {
   "cell_type": "code",
   "execution_count": 25,
   "metadata": {
    "scrolled": true
   },
   "outputs": [
    {
     "data": {
      "text/html": [
       "<div>\n",
       "<style scoped>\n",
       "    .dataframe tbody tr th:only-of-type {\n",
       "        vertical-align: middle;\n",
       "    }\n",
       "\n",
       "    .dataframe tbody tr th {\n",
       "        vertical-align: top;\n",
       "    }\n",
       "\n",
       "    .dataframe thead th {\n",
       "        text-align: right;\n",
       "    }\n",
       "</style>\n",
       "<table border=\"1\" class=\"dataframe\">\n",
       "  <thead>\n",
       "    <tr style=\"text-align: right;\">\n",
       "      <th></th>\n",
       "      <th>f0</th>\n",
       "      <th>f1</th>\n",
       "      <th>f2</th>\n",
       "    </tr>\n",
       "  </thead>\n",
       "  <tbody>\n",
       "    <tr>\n",
       "      <th>0</th>\n",
       "      <td>-1.146987</td>\n",
       "      <td>0.963328</td>\n",
       "      <td>-0.828965</td>\n",
       "    </tr>\n",
       "    <tr>\n",
       "      <th>1</th>\n",
       "      <td>0.262778</td>\n",
       "      <td>0.269839</td>\n",
       "      <td>-2.530187</td>\n",
       "    </tr>\n",
       "    <tr>\n",
       "      <th>2</th>\n",
       "      <td>0.194587</td>\n",
       "      <td>0.289035</td>\n",
       "      <td>-5.586433</td>\n",
       "    </tr>\n",
       "    <tr>\n",
       "      <th>3</th>\n",
       "      <td>2.236060</td>\n",
       "      <td>-0.553760</td>\n",
       "      <td>0.930038</td>\n",
       "    </tr>\n",
       "    <tr>\n",
       "      <th>4</th>\n",
       "      <td>-0.515993</td>\n",
       "      <td>1.716266</td>\n",
       "      <td>5.899011</td>\n",
       "    </tr>\n",
       "  </tbody>\n",
       "</table>\n",
       "</div>"
      ],
      "text/plain": [
       "         f0        f1        f2\n",
       "0 -1.146987  0.963328 -0.828965\n",
       "1  0.262778  0.269839 -2.530187\n",
       "2  0.194587  0.289035 -5.586433\n",
       "3  2.236060 -0.553760  0.930038\n",
       "4 -0.515993  1.716266  5.899011"
      ]
     },
     "execution_count": 25,
     "metadata": {},
     "output_type": "execute_result"
    }
   ],
   "source": [
    "X_2.head()"
   ]
  },
  {
   "cell_type": "code",
   "execution_count": 26,
   "metadata": {},
   "outputs": [
    {
     "data": {
      "text/plain": [
       "0     27.758673\n",
       "1     56.069697\n",
       "2     62.871910\n",
       "3    114.572842\n",
       "4    149.600746\n",
       "Name: product, dtype: float64"
      ]
     },
     "execution_count": 26,
     "metadata": {},
     "output_type": "execute_result"
    }
   ],
   "source": [
    "y_2.head()"
   ]
  },
  {
   "cell_type": "code",
   "execution_count": 27,
   "metadata": {},
   "outputs": [],
   "source": [
    "X_2_train, X_2_valid, y_2_train, y_2_valid = train_test_split(X_2, y_2, test_size=0.25, random_state=12345)"
   ]
  },
  {
   "cell_type": "markdown",
   "metadata": {},
   "source": [
    "Все необходимые данные подготовленны, приступаем к обучению и предсказаниям"
   ]
  },
  {
   "cell_type": "markdown",
   "metadata": {},
   "source": [
    "## Обучение и проверка модели"
   ]
  },
  {
   "cell_type": "code",
   "execution_count": 28,
   "metadata": {},
   "outputs": [],
   "source": [
    "#Функция расчета среднего запаса сырья и квадратного корня из средней квадратичной ошибки\n",
    "def model_lg(X_train, X_valid, y_train, y_valid):\n",
    "    model = LinearRegression()\n",
    "    model.fit(X_train, y_train)\n",
    "    y_pred = model.predict(X_valid)\n",
    "    rmse = mean_squared_error(y_valid, y_pred) ** 0.5\n",
    "    print('Средний запас предсказанного сырья:', pd.Series(y_pred).mean())\n",
    "    print('RMSE модели:', rmse)\n",
    "    print('Качество модели (R2):', model.score(X_valid, y_valid))\n",
    "    return model, pd.Series(y_pred, index=y_valid.index), rmse"
   ]
  },
  {
   "cell_type": "markdown",
   "metadata": {},
   "source": [
    "### Данные предсказания первого региона"
   ]
  },
  {
   "cell_type": "code",
   "execution_count": 29,
   "metadata": {
    "scrolled": false
   },
   "outputs": [
    {
     "name": "stdout",
     "output_type": "stream",
     "text": [
      "Средний запас предсказанного сырья: 92.59256778438035\n",
      "RMSE модели: 37.5794217150813\n",
      "Качество модели (R2): 0.27994321524487786\n"
     ]
    }
   ],
   "source": [
    "model_0, y_0_pred , rmse_0 =  model_lg(X_0_train, X_0_valid, y_0_train, y_0_valid)"
   ]
  },
  {
   "cell_type": "markdown",
   "metadata": {},
   "source": [
    "### Данные предсказания второго региона"
   ]
  },
  {
   "cell_type": "code",
   "execution_count": 30,
   "metadata": {},
   "outputs": [
    {
     "name": "stdout",
     "output_type": "stream",
     "text": [
      "Средний запас предсказанного сырья: 68.728546895446\n",
      "RMSE модели: 0.893099286775617\n",
      "Качество модели (R2): 0.9996233978805127\n"
     ]
    }
   ],
   "source": [
    "model_1, y_1_pred, rmse_1 =  model_lg(X_1_train, X_1_valid, y_1_train, y_1_valid)"
   ]
  },
  {
   "cell_type": "markdown",
   "metadata": {},
   "source": [
    "### Данные предсказания третьего региона"
   ]
  },
  {
   "cell_type": "code",
   "execution_count": 31,
   "metadata": {
    "scrolled": true
   },
   "outputs": [
    {
     "name": "stdout",
     "output_type": "stream",
     "text": [
      "Средний запас предсказанного сырья: 94.96504596800489\n",
      "RMSE модели: 40.02970873393434\n",
      "Качество модели (R2): 0.20524758386040443\n"
     ]
    }
   ],
   "source": [
    "model_2, y_2_pred, rmse_2 =  model_lg(X_2_train, X_2_valid, y_2_train, y_2_valid)"
   ]
  },
  {
   "cell_type": "markdown",
   "metadata": {},
   "source": [
    "Вывод: самые большие предсказанные средние запасы месторождений получились в третьем регионе."
   ]
  },
  {
   "cell_type": "markdown",
   "metadata": {},
   "source": [
    "## Подготовка к расчёту прибыли"
   ]
  },
  {
   "cell_type": "code",
   "execution_count": 42,
   "metadata": {},
   "outputs": [
    {
     "name": "stdout",
     "output_type": "stream",
     "text": [
      "Достаточный объём сырья для безубыточной разработки новой скважины: 111.11111111111111\n"
     ]
    }
   ],
   "source": [
    "AMOUNT_OIL_WELLS = 200 #количество скважин в регионе для разработки\n",
    "DEVELOPMENT_BUDGET = 10_000_000_000 # бюджет на разработку одного региона\n",
    "PROFIT_PER_UNIT = 450_000 # доход с каждой единицы продукта\n",
    "print('Достаточный объём сырья для безубыточной разработки новой скважины:',\\\n",
    "      (DEVELOPMENT_BUDGET / AMOUNT_OIL_WELLS / PROFIT_PER_UNIT))"
   ]
  },
  {
   "cell_type": "markdown",
   "metadata": {},
   "source": [
    "Ни один регион не удовлетворяет минимальному среднему объему запасов сырья на скважину, если взять среднее по всем скважинам, посмотрим что получится, если возьмем 200 лучших."
   ]
  },
  {
   "cell_type": "code",
   "execution_count": 43,
   "metadata": {},
   "outputs": [],
   "source": [
    "# Функция расчета прибыли на основе предсказаний по валидационной выборке\n",
    "def profit(y_true, y_pred, count):\n",
    "     return round(y_true[y_pred.sort_values(ascending=False).index][:count].sum()\\\n",
    "                  * PROFIT_PER_UNIT - DEVELOPMENT_BUDGET, 0)"
   ]
  },
  {
   "cell_type": "code",
   "execution_count": 44,
   "metadata": {},
   "outputs": [
    {
     "data": {
      "text/plain": [
       "3320826043.0"
      ]
     },
     "execution_count": 44,
     "metadata": {},
     "output_type": "execute_result"
    }
   ],
   "source": [
    "profit(y_0_valid, y_0_pred, AMOUNT_OIL_WELLS)"
   ]
  },
  {
   "cell_type": "code",
   "execution_count": 45,
   "metadata": {},
   "outputs": [
    {
     "data": {
      "text/plain": [
       "2415086697.0"
      ]
     },
     "execution_count": 45,
     "metadata": {},
     "output_type": "execute_result"
    }
   ],
   "source": [
    "profit(y_1_valid, y_1_pred, AMOUNT_OIL_WELLS)"
   ]
  },
  {
   "cell_type": "code",
   "execution_count": 46,
   "metadata": {},
   "outputs": [
    {
     "data": {
      "text/plain": [
       "2710349964.0"
      ]
     },
     "execution_count": 46,
     "metadata": {},
     "output_type": "execute_result"
    }
   ],
   "source": [
    "profit(y_2_valid, y_2_pred, AMOUNT_OIL_WELLS)"
   ]
  },
  {
   "cell_type": "markdown",
   "metadata": {},
   "source": [
    "Вывод: если исследовать все месторождения в регионах и взять лучших из лучших, то мы легко перекроем затраты и получим неплохую прибыль. Но т.к. у нас бюджет ограничен, посмотрим что будет если взять всего 500 случайных скважин."
   ]
  },
  {
   "cell_type": "markdown",
   "metadata": {},
   "source": [
    "## Расчёт прибыли и рисков "
   ]
  },
  {
   "cell_type": "code",
   "execution_count": 65,
   "metadata": {
    "scrolled": true
   },
   "outputs": [],
   "source": [
    "# Bootstrap\n",
    "def bootstrap(y_valid, y_pred):\n",
    "    state = np.random.RandomState(12345)\n",
    "    values = []\n",
    "    for i in range(1000):\n",
    "        subsample = y_valid.sample(n=500, replace=True, random_state=state)\n",
    "        probs_subsample = y_pred[subsample.index]\n",
    "        values.append(profit(subsample, probs_subsample, AMOUNT_OIL_WELLS))\n",
    "\n",
    "    values=pd.Series(values)\n",
    "    print('Среднее значение прибыли:', round(values.mean(),0))\n",
    "    print('Границы 95% интервала', round(values.quantile(.025),0), round(values.quantile(.975),0))\n",
    "    print('Вероятность убытка:', values[values < 0].count() / len(values))"
   ]
  },
  {
   "cell_type": "code",
   "execution_count": 66,
   "metadata": {
    "scrolled": false
   },
   "outputs": [
    {
     "name": "stdout",
     "output_type": "stream",
     "text": [
      "Среднее значение прибыли: 425938527.0\n",
      "Границы 95% интервала -102090095.0 947976354.0\n",
      "Вероятность убытка: 0.06\n"
     ]
    }
   ],
   "source": [
    "values_0 = bootstrap(y_0_valid, y_0_pred)"
   ]
  },
  {
   "cell_type": "code",
   "execution_count": 67,
   "metadata": {},
   "outputs": [
    {
     "name": "stdout",
     "output_type": "stream",
     "text": [
      "Среднее значение прибыли: 515222773.0\n",
      "Границы 95% интервала 68873225.0 931547591.0\n",
      "Вероятность убытка: 0.01\n"
     ]
    }
   ],
   "source": [
    "bootstrap(y_1_valid, y_1_pred)"
   ]
  },
  {
   "cell_type": "code",
   "execution_count": 68,
   "metadata": {
    "scrolled": true
   },
   "outputs": [
    {
     "name": "stdout",
     "output_type": "stream",
     "text": [
      "Среднее значение прибыли: 435008363.0\n",
      "Границы 95% интервала -128880547.0 969706954.0\n",
      "Вероятность убытка: 0.064\n"
     ]
    }
   ],
   "source": [
    "bootstrap(y_2_valid, y_2_pred)"
   ]
  },
  {
   "cell_type": "markdown",
   "metadata": {},
   "source": [
    "**Общий вывод:** на данных по трем регионам были обучены модели линейной регрессии и получены предсказания на валидационной выборке. По результатам предсказаний получили, что при исследовании всех скважин все три региона выходят на прибыль. После проведения анализа методом Bootstrap, выбирая 500 случайных скважин в регионе и из них 200 лучших, мы видем, что в регионах номер 1 и 3 вероятность убытка более 6% и 6,4%, что не удовлетворяет критериям выбора. Регион номер 2 отвечает критериям неубыточности, объем прибыли, который мы можем получить с данных месторождений от 71 до 893 млн рублей."
   ]
  },
  {
   "cell_type": "code",
   "execution_count": null,
   "metadata": {},
   "outputs": [],
   "source": []
  }
 ],
 "metadata": {
  "ExecuteTimeLog": [
   {
    "duration": 1035,
    "start_time": "2023-01-15T20:27:06.538Z"
   },
   {
    "duration": 742,
    "start_time": "2023-01-15T20:28:29.916Z"
   },
   {
    "duration": 19,
    "start_time": "2023-01-15T20:28:34.628Z"
   },
   {
    "duration": 11,
    "start_time": "2023-01-15T20:28:59.017Z"
   },
   {
    "duration": 14,
    "start_time": "2023-01-15T20:29:08.603Z"
   },
   {
    "duration": 10,
    "start_time": "2023-01-15T20:31:07.422Z"
   },
   {
    "duration": 39,
    "start_time": "2023-01-15T20:31:33.396Z"
   },
   {
    "duration": 46,
    "start_time": "2023-01-15T20:32:02.282Z"
   },
   {
    "duration": 49,
    "start_time": "2023-01-15T20:32:09.651Z"
   },
   {
    "duration": 97,
    "start_time": "2023-01-15T20:41:34.373Z"
   },
   {
    "duration": 5,
    "start_time": "2023-01-15T20:41:42.352Z"
   },
   {
    "duration": 11,
    "start_time": "2023-01-15T20:41:48.998Z"
   },
   {
    "duration": 8,
    "start_time": "2023-01-15T20:41:58.118Z"
   },
   {
    "duration": 5,
    "start_time": "2023-01-15T20:42:03.774Z"
   },
   {
    "duration": 8,
    "start_time": "2023-01-15T20:42:18.247Z"
   },
   {
    "duration": 7,
    "start_time": "2023-01-15T20:42:26.184Z"
   },
   {
    "duration": 7,
    "start_time": "2023-01-15T20:42:34.689Z"
   },
   {
    "duration": 8,
    "start_time": "2023-01-15T20:42:53.654Z"
   },
   {
    "duration": 4,
    "start_time": "2023-01-15T20:42:58.078Z"
   },
   {
    "duration": 8,
    "start_time": "2023-01-15T20:43:55.326Z"
   },
   {
    "duration": 9,
    "start_time": "2023-01-15T20:44:14.365Z"
   },
   {
    "duration": 42,
    "start_time": "2023-01-15T20:44:22.684Z"
   },
   {
    "duration": 4,
    "start_time": "2023-01-15T20:44:42.066Z"
   },
   {
    "duration": 7,
    "start_time": "2023-01-15T20:44:58.999Z"
   },
   {
    "duration": 4,
    "start_time": "2023-01-15T20:45:08.630Z"
   },
   {
    "duration": 15,
    "start_time": "2023-01-15T20:45:44.043Z"
   },
   {
    "duration": 13,
    "start_time": "2023-01-15T20:45:57.634Z"
   },
   {
    "duration": 10,
    "start_time": "2023-01-15T20:46:44.736Z"
   },
   {
    "duration": 9,
    "start_time": "2023-01-15T20:46:56.586Z"
   },
   {
    "duration": 43,
    "start_time": "2023-01-15T20:47:04.793Z"
   },
   {
    "duration": 14,
    "start_time": "2023-01-15T20:47:59.609Z"
   },
   {
    "duration": 6,
    "start_time": "2023-01-15T20:48:11.668Z"
   },
   {
    "duration": 6,
    "start_time": "2023-01-15T20:48:21.130Z"
   },
   {
    "duration": 8,
    "start_time": "2023-01-15T20:48:32.382Z"
   },
   {
    "duration": 5,
    "start_time": "2023-01-15T20:48:41.759Z"
   },
   {
    "duration": 12,
    "start_time": "2023-01-15T20:51:35.866Z"
   },
   {
    "duration": 14,
    "start_time": "2023-01-15T20:52:00.646Z"
   },
   {
    "duration": 13,
    "start_time": "2023-01-15T20:52:28.876Z"
   },
   {
    "duration": 4,
    "start_time": "2023-01-15T20:59:32.346Z"
   },
   {
    "duration": 4,
    "start_time": "2023-01-15T21:00:40.771Z"
   },
   {
    "duration": 4,
    "start_time": "2023-01-15T21:04:32.273Z"
   },
   {
    "duration": 10,
    "start_time": "2023-01-15T21:07:31.205Z"
   },
   {
    "duration": 12,
    "start_time": "2023-01-15T21:07:56.232Z"
   },
   {
    "duration": 3,
    "start_time": "2023-01-15T21:08:16.345Z"
   },
   {
    "duration": 22,
    "start_time": "2023-01-15T21:08:18.451Z"
   },
   {
    "duration": 12,
    "start_time": "2023-01-15T21:09:13.287Z"
   },
   {
    "duration": 15,
    "start_time": "2023-01-15T21:09:28.416Z"
   },
   {
    "duration": 1149,
    "start_time": "2023-01-15T21:23:35.165Z"
   },
   {
    "duration": 361,
    "start_time": "2023-01-15T21:23:36.316Z"
   },
   {
    "duration": 18,
    "start_time": "2023-01-15T21:23:36.679Z"
   },
   {
    "duration": 8,
    "start_time": "2023-01-15T21:23:36.699Z"
   },
   {
    "duration": 43,
    "start_time": "2023-01-15T21:23:36.709Z"
   },
   {
    "duration": 14,
    "start_time": "2023-01-15T21:23:36.753Z"
   },
   {
    "duration": 34,
    "start_time": "2023-01-15T21:23:36.769Z"
   },
   {
    "duration": 12,
    "start_time": "2023-01-15T21:23:36.805Z"
   },
   {
    "duration": 9,
    "start_time": "2023-01-15T21:23:36.818Z"
   },
   {
    "duration": 19,
    "start_time": "2023-01-15T21:23:36.829Z"
   },
   {
    "duration": 9,
    "start_time": "2023-01-15T21:23:36.850Z"
   },
   {
    "duration": 14,
    "start_time": "2023-01-15T21:23:36.860Z"
   },
   {
    "duration": 60,
    "start_time": "2023-01-15T21:23:36.875Z"
   },
   {
    "duration": 13,
    "start_time": "2023-01-15T21:23:36.937Z"
   },
   {
    "duration": 5,
    "start_time": "2023-01-15T21:23:36.952Z"
   },
   {
    "duration": 12,
    "start_time": "2023-01-15T21:23:36.959Z"
   },
   {
    "duration": 29,
    "start_time": "2023-01-15T21:23:36.973Z"
   },
   {
    "duration": 14,
    "start_time": "2023-01-15T21:23:37.004Z"
   },
   {
    "duration": 12,
    "start_time": "2023-01-15T21:23:37.020Z"
   },
   {
    "duration": 15,
    "start_time": "2023-01-15T21:23:37.033Z"
   },
   {
    "duration": 64,
    "start_time": "2023-01-15T21:23:37.050Z"
   },
   {
    "duration": 13,
    "start_time": "2023-01-15T21:23:37.116Z"
   },
   {
    "duration": 7,
    "start_time": "2023-01-15T21:23:37.130Z"
   },
   {
    "duration": 11,
    "start_time": "2023-01-15T21:23:37.139Z"
   },
   {
    "duration": 20,
    "start_time": "2023-01-15T21:23:37.152Z"
   },
   {
    "duration": 36,
    "start_time": "2023-01-15T21:23:37.173Z"
   },
   {
    "duration": 6,
    "start_time": "2023-01-15T21:23:37.211Z"
   },
   {
    "duration": 253,
    "start_time": "2023-01-15T21:23:37.220Z"
   },
   {
    "duration": 0,
    "start_time": "2023-01-15T21:23:37.474Z"
   },
   {
    "duration": 0,
    "start_time": "2023-01-15T21:23:37.476Z"
   },
   {
    "duration": 4,
    "start_time": "2023-01-15T21:24:21.277Z"
   },
   {
    "duration": 18,
    "start_time": "2023-01-15T21:24:23.960Z"
   },
   {
    "duration": 19,
    "start_time": "2023-01-15T21:24:28.033Z"
   },
   {
    "duration": 20,
    "start_time": "2023-01-15T21:24:30.245Z"
   },
   {
    "duration": 5,
    "start_time": "2023-01-15T21:39:21.124Z"
   },
   {
    "duration": 4,
    "start_time": "2023-01-15T21:47:04.282Z"
   },
   {
    "duration": 3,
    "start_time": "2023-01-15T21:48:17.724Z"
   },
   {
    "duration": 3,
    "start_time": "2023-01-15T21:50:46.847Z"
   },
   {
    "duration": 46,
    "start_time": "2023-01-15T21:53:03.882Z"
   },
   {
    "duration": 50,
    "start_time": "2023-01-15T21:53:28.718Z"
   },
   {
    "duration": 56,
    "start_time": "2023-01-15T21:53:36.294Z"
   },
   {
    "duration": 4,
    "start_time": "2023-01-15T21:53:59.139Z"
   },
   {
    "duration": 3,
    "start_time": "2023-01-15T22:04:32.362Z"
   },
   {
    "duration": 5,
    "start_time": "2023-01-15T22:05:40.283Z"
   },
   {
    "duration": 5,
    "start_time": "2023-01-15T22:05:47.239Z"
   },
   {
    "duration": 10,
    "start_time": "2023-01-15T22:08:13.854Z"
   },
   {
    "duration": 1105,
    "start_time": "2023-01-15T22:08:32.487Z"
   },
   {
    "duration": 399,
    "start_time": "2023-01-15T22:08:33.594Z"
   },
   {
    "duration": 20,
    "start_time": "2023-01-15T22:08:33.995Z"
   },
   {
    "duration": 13,
    "start_time": "2023-01-15T22:08:34.016Z"
   },
   {
    "duration": 45,
    "start_time": "2023-01-15T22:08:34.031Z"
   },
   {
    "duration": 39,
    "start_time": "2023-01-15T22:08:34.077Z"
   },
   {
    "duration": 4,
    "start_time": "2023-01-15T22:08:34.118Z"
   },
   {
    "duration": 10,
    "start_time": "2023-01-15T22:08:34.124Z"
   },
   {
    "duration": 6,
    "start_time": "2023-01-15T22:08:34.135Z"
   },
   {
    "duration": 13,
    "start_time": "2023-01-15T22:08:34.142Z"
   },
   {
    "duration": 8,
    "start_time": "2023-01-15T22:08:34.157Z"
   },
   {
    "duration": 39,
    "start_time": "2023-01-15T22:08:34.167Z"
   },
   {
    "duration": 50,
    "start_time": "2023-01-15T22:08:34.208Z"
   },
   {
    "duration": 12,
    "start_time": "2023-01-15T22:08:34.260Z"
   },
   {
    "duration": 5,
    "start_time": "2023-01-15T22:08:34.273Z"
   },
   {
    "duration": 18,
    "start_time": "2023-01-15T22:08:34.279Z"
   },
   {
    "duration": 5,
    "start_time": "2023-01-15T22:08:34.298Z"
   },
   {
    "duration": 25,
    "start_time": "2023-01-15T22:08:34.304Z"
   },
   {
    "duration": 9,
    "start_time": "2023-01-15T22:08:34.331Z"
   },
   {
    "duration": 15,
    "start_time": "2023-01-15T22:08:34.342Z"
   },
   {
    "duration": 62,
    "start_time": "2023-01-15T22:08:34.359Z"
   },
   {
    "duration": 14,
    "start_time": "2023-01-15T22:08:34.422Z"
   },
   {
    "duration": 6,
    "start_time": "2023-01-15T22:08:34.437Z"
   },
   {
    "duration": 9,
    "start_time": "2023-01-15T22:08:34.444Z"
   },
   {
    "duration": 7,
    "start_time": "2023-01-15T22:08:34.455Z"
   },
   {
    "duration": 38,
    "start_time": "2023-01-15T22:08:34.464Z"
   },
   {
    "duration": 7,
    "start_time": "2023-01-15T22:08:34.504Z"
   },
   {
    "duration": 82,
    "start_time": "2023-01-15T22:08:34.513Z"
   },
   {
    "duration": 108,
    "start_time": "2023-01-15T22:08:34.597Z"
   },
   {
    "duration": 218,
    "start_time": "2023-01-15T22:08:34.708Z"
   },
   {
    "duration": 72,
    "start_time": "2023-01-15T22:08:34.930Z"
   },
   {
    "duration": 208,
    "start_time": "2023-01-15T22:08:35.008Z"
   },
   {
    "duration": 9,
    "start_time": "2023-01-15T22:09:08.786Z"
   },
   {
    "duration": 7,
    "start_time": "2023-01-15T22:09:51.909Z"
   },
   {
    "duration": 46,
    "start_time": "2023-01-15T22:12:31.753Z"
   },
   {
    "duration": 4,
    "start_time": "2023-01-15T22:12:42.078Z"
   },
   {
    "duration": 9,
    "start_time": "2023-01-15T22:16:41.851Z"
   },
   {
    "duration": 4,
    "start_time": "2023-01-15T22:17:17.568Z"
   },
   {
    "duration": 21,
    "start_time": "2023-01-15T22:17:18.293Z"
   },
   {
    "duration": 19,
    "start_time": "2023-01-15T22:17:19.165Z"
   },
   {
    "duration": 20,
    "start_time": "2023-01-15T22:17:20.206Z"
   },
   {
    "duration": 3,
    "start_time": "2023-01-15T22:17:24.047Z"
   },
   {
    "duration": 6,
    "start_time": "2023-01-15T22:17:24.738Z"
   },
   {
    "duration": 10,
    "start_time": "2023-01-15T22:17:29.926Z"
   },
   {
    "duration": 7,
    "start_time": "2023-01-15T22:17:48.664Z"
   },
   {
    "duration": 9,
    "start_time": "2023-01-15T22:18:11.641Z"
   },
   {
    "duration": 1019,
    "start_time": "2023-01-15T22:19:34.141Z"
   },
   {
    "duration": 373,
    "start_time": "2023-01-15T22:19:35.162Z"
   },
   {
    "duration": 16,
    "start_time": "2023-01-15T22:19:35.537Z"
   },
   {
    "duration": 10,
    "start_time": "2023-01-15T22:19:35.555Z"
   },
   {
    "duration": 64,
    "start_time": "2023-01-15T22:19:35.567Z"
   },
   {
    "duration": 14,
    "start_time": "2023-01-15T22:19:35.633Z"
   },
   {
    "duration": 4,
    "start_time": "2023-01-15T22:19:35.649Z"
   },
   {
    "duration": 17,
    "start_time": "2023-01-15T22:19:35.654Z"
   },
   {
    "duration": 25,
    "start_time": "2023-01-15T22:19:35.672Z"
   },
   {
    "duration": 12,
    "start_time": "2023-01-15T22:19:35.699Z"
   },
   {
    "duration": 9,
    "start_time": "2023-01-15T22:19:35.713Z"
   },
   {
    "duration": 15,
    "start_time": "2023-01-15T22:19:35.724Z"
   },
   {
    "duration": 65,
    "start_time": "2023-01-15T22:19:35.741Z"
   },
   {
    "duration": 13,
    "start_time": "2023-01-15T22:19:35.809Z"
   },
   {
    "duration": 6,
    "start_time": "2023-01-15T22:19:35.824Z"
   },
   {
    "duration": 25,
    "start_time": "2023-01-15T22:19:35.831Z"
   },
   {
    "duration": 22,
    "start_time": "2023-01-15T22:19:35.857Z"
   },
   {
    "duration": 42,
    "start_time": "2023-01-15T22:19:35.881Z"
   },
   {
    "duration": 38,
    "start_time": "2023-01-15T22:19:35.925Z"
   },
   {
    "duration": 32,
    "start_time": "2023-01-15T22:19:35.965Z"
   },
   {
    "duration": 63,
    "start_time": "2023-01-15T22:19:36.000Z"
   },
   {
    "duration": 36,
    "start_time": "2023-01-15T22:19:36.065Z"
   },
   {
    "duration": 7,
    "start_time": "2023-01-15T22:19:36.103Z"
   },
   {
    "duration": 10,
    "start_time": "2023-01-15T22:19:36.112Z"
   },
   {
    "duration": 9,
    "start_time": "2023-01-15T22:19:36.124Z"
   },
   {
    "duration": 14,
    "start_time": "2023-01-15T22:19:36.135Z"
   },
   {
    "duration": 4,
    "start_time": "2023-01-15T22:19:36.151Z"
   },
   {
    "duration": 47,
    "start_time": "2023-01-15T22:19:36.157Z"
   },
   {
    "duration": 192,
    "start_time": "2023-01-15T22:19:36.205Z"
   },
   {
    "duration": 106,
    "start_time": "2023-01-15T22:19:36.399Z"
   },
   {
    "duration": 196,
    "start_time": "2023-01-15T22:19:36.506Z"
   },
   {
    "duration": 111,
    "start_time": "2023-01-15T22:19:36.704Z"
   },
   {
    "duration": 0,
    "start_time": "2023-01-15T22:19:36.816Z"
   },
   {
    "duration": 0,
    "start_time": "2023-01-15T22:19:36.818Z"
   },
   {
    "duration": 5,
    "start_time": "2023-01-15T22:21:33.269Z"
   },
   {
    "duration": 20,
    "start_time": "2023-01-15T22:21:38.315Z"
   },
   {
    "duration": 8,
    "start_time": "2023-01-15T22:22:34.298Z"
   },
   {
    "duration": 9,
    "start_time": "2023-01-15T22:23:01.267Z"
   },
   {
    "duration": 6,
    "start_time": "2023-01-15T22:23:30.011Z"
   },
   {
    "duration": 4,
    "start_time": "2023-01-15T22:23:43.177Z"
   },
   {
    "duration": 5,
    "start_time": "2023-01-15T22:23:56.010Z"
   },
   {
    "duration": 14,
    "start_time": "2023-01-15T22:24:24.580Z"
   },
   {
    "duration": 19,
    "start_time": "2023-01-15T22:24:30.006Z"
   },
   {
    "duration": 18,
    "start_time": "2023-01-15T22:24:37.551Z"
   },
   {
    "duration": 9,
    "start_time": "2023-01-15T22:24:59.318Z"
   },
   {
    "duration": 8,
    "start_time": "2023-01-15T22:25:04.027Z"
   },
   {
    "duration": 11,
    "start_time": "2023-01-15T22:26:20.607Z"
   },
   {
    "duration": 10,
    "start_time": "2023-01-15T22:26:32.917Z"
   },
   {
    "duration": 18,
    "start_time": "2023-01-15T22:26:58.560Z"
   },
   {
    "duration": 10,
    "start_time": "2023-01-15T22:29:21.239Z"
   },
   {
    "duration": 7,
    "start_time": "2023-01-15T22:29:30.626Z"
   },
   {
    "duration": 8,
    "start_time": "2023-01-15T22:31:30.282Z"
   },
   {
    "duration": 12,
    "start_time": "2023-01-15T22:31:34.655Z"
   },
   {
    "duration": 8,
    "start_time": "2023-01-15T22:31:38.938Z"
   },
   {
    "duration": 4,
    "start_time": "2023-01-15T22:31:50.014Z"
   },
   {
    "duration": 10,
    "start_time": "2023-01-15T22:31:55.828Z"
   },
   {
    "duration": 10,
    "start_time": "2023-01-15T22:32:04.734Z"
   },
   {
    "duration": 6,
    "start_time": "2023-01-15T22:32:22.094Z"
   },
   {
    "duration": 6,
    "start_time": "2023-01-15T22:32:53.160Z"
   },
   {
    "duration": 6,
    "start_time": "2023-01-15T22:33:00.605Z"
   },
   {
    "duration": 15,
    "start_time": "2023-01-15T22:33:25.806Z"
   },
   {
    "duration": 4,
    "start_time": "2023-01-15T22:33:46.716Z"
   },
   {
    "duration": 18,
    "start_time": "2023-01-15T22:34:05.833Z"
   },
   {
    "duration": 13,
    "start_time": "2023-01-15T22:34:34.965Z"
   },
   {
    "duration": 4,
    "start_time": "2023-01-15T22:35:33.943Z"
   },
   {
    "duration": 104,
    "start_time": "2023-01-15T22:35:36.701Z"
   },
   {
    "duration": 4,
    "start_time": "2023-01-15T22:35:49.363Z"
   },
   {
    "duration": 19,
    "start_time": "2023-01-15T22:35:50.276Z"
   },
   {
    "duration": 5,
    "start_time": "2023-01-15T22:36:04.181Z"
   },
   {
    "duration": 12,
    "start_time": "2023-01-15T22:45:31.514Z"
   },
   {
    "duration": 4,
    "start_time": "2023-01-15T22:46:34.684Z"
   },
   {
    "duration": 22,
    "start_time": "2023-01-15T22:46:35.482Z"
   },
   {
    "duration": 3,
    "start_time": "2023-01-15T22:46:35.698Z"
   },
   {
    "duration": 19,
    "start_time": "2023-01-15T22:46:36.323Z"
   },
   {
    "duration": 18,
    "start_time": "2023-01-15T22:46:36.982Z"
   },
   {
    "duration": 4,
    "start_time": "2023-01-15T22:46:42.243Z"
   },
   {
    "duration": 6,
    "start_time": "2023-01-15T22:46:42.816Z"
   },
   {
    "duration": 18,
    "start_time": "2023-01-15T22:46:47.543Z"
   },
   {
    "duration": 18,
    "start_time": "2023-01-15T22:47:05.510Z"
   },
   {
    "duration": 10,
    "start_time": "2023-01-15T22:47:19.315Z"
   },
   {
    "duration": 6,
    "start_time": "2023-01-15T22:47:50.311Z"
   },
   {
    "duration": 9,
    "start_time": "2023-01-15T22:48:23.705Z"
   },
   {
    "duration": 9,
    "start_time": "2023-01-15T22:48:54.046Z"
   },
   {
    "duration": 10,
    "start_time": "2023-01-15T22:48:59.706Z"
   },
   {
    "duration": 8,
    "start_time": "2023-01-15T22:49:22.340Z"
   },
   {
    "duration": 3,
    "start_time": "2023-01-15T22:51:03.928Z"
   },
   {
    "duration": 8,
    "start_time": "2023-01-15T22:51:30.414Z"
   },
   {
    "duration": 8,
    "start_time": "2023-01-15T22:53:20.657Z"
   },
   {
    "duration": 8,
    "start_time": "2023-01-15T22:53:30.310Z"
   },
   {
    "duration": 2,
    "start_time": "2023-01-15T22:57:22.266Z"
   },
   {
    "duration": 597,
    "start_time": "2023-01-15T23:12:49.457Z"
   },
   {
    "duration": 4,
    "start_time": "2023-01-15T23:12:50.844Z"
   },
   {
    "duration": 9,
    "start_time": "2023-01-15T23:13:26.546Z"
   },
   {
    "duration": 626,
    "start_time": "2023-01-15T23:13:52.589Z"
   },
   {
    "duration": 5,
    "start_time": "2023-01-15T23:14:00.737Z"
   },
   {
    "duration": 5,
    "start_time": "2023-01-15T23:14:02.596Z"
   },
   {
    "duration": 6,
    "start_time": "2023-01-16T17:28:50.296Z"
   },
   {
    "duration": 3126,
    "start_time": "2023-01-16T17:34:41.243Z"
   },
   {
    "duration": 4,
    "start_time": "2023-01-16T17:34:46.040Z"
   },
   {
    "duration": 5,
    "start_time": "2023-01-16T17:34:48.575Z"
   },
   {
    "duration": 5,
    "start_time": "2023-01-16T17:34:51.738Z"
   },
   {
    "duration": 3410,
    "start_time": "2023-01-16T17:39:41.967Z"
   },
   {
    "duration": 4,
    "start_time": "2023-01-16T17:39:46.556Z"
   },
   {
    "duration": 5,
    "start_time": "2023-01-16T17:39:47.745Z"
   },
   {
    "duration": 5,
    "start_time": "2023-01-16T17:39:48.521Z"
   },
   {
    "duration": 647,
    "start_time": "2023-01-16T17:40:42.658Z"
   },
   {
    "duration": 5,
    "start_time": "2023-01-16T17:40:44.761Z"
   },
   {
    "duration": 5,
    "start_time": "2023-01-16T17:40:45.613Z"
   },
   {
    "duration": 5,
    "start_time": "2023-01-16T17:40:46.572Z"
   },
   {
    "duration": 647,
    "start_time": "2023-01-16T17:41:08.638Z"
   },
   {
    "duration": 4,
    "start_time": "2023-01-16T17:41:10.062Z"
   },
   {
    "duration": 6,
    "start_time": "2023-01-16T17:41:10.857Z"
   },
   {
    "duration": 5,
    "start_time": "2023-01-16T17:41:11.439Z"
   },
   {
    "duration": 653,
    "start_time": "2023-01-16T17:41:16.556Z"
   },
   {
    "duration": 4,
    "start_time": "2023-01-16T17:41:18.327Z"
   },
   {
    "duration": 5,
    "start_time": "2023-01-16T17:41:19.446Z"
   },
   {
    "duration": 6,
    "start_time": "2023-01-16T17:41:20.263Z"
   },
   {
    "duration": 3,
    "start_time": "2023-01-16T18:20:46.992Z"
   },
   {
    "duration": 7,
    "start_time": "2023-01-16T18:20:49.034Z"
   },
   {
    "duration": 4,
    "start_time": "2023-01-16T18:22:45.854Z"
   },
   {
    "duration": 12,
    "start_time": "2023-01-16T18:22:46.913Z"
   },
   {
    "duration": 11,
    "start_time": "2023-01-16T18:22:49.610Z"
   },
   {
    "duration": 8,
    "start_time": "2023-01-16T18:22:50.733Z"
   },
   {
    "duration": 638,
    "start_time": "2023-01-16T18:23:02.145Z"
   },
   {
    "duration": 5,
    "start_time": "2023-01-16T18:23:03.680Z"
   },
   {
    "duration": 6,
    "start_time": "2023-01-16T18:23:04.569Z"
   },
   {
    "duration": 5,
    "start_time": "2023-01-16T18:23:05.430Z"
   },
   {
    "duration": 3701,
    "start_time": "2023-01-16T18:23:26.115Z"
   },
   {
    "duration": 6,
    "start_time": "2023-01-16T18:23:31.104Z"
   },
   {
    "duration": 6,
    "start_time": "2023-01-16T18:23:33.875Z"
   },
   {
    "duration": 7,
    "start_time": "2023-01-16T18:23:35.886Z"
   },
   {
    "duration": 3090,
    "start_time": "2023-01-16T18:23:52.061Z"
   },
   {
    "duration": 6,
    "start_time": "2023-01-16T18:23:56.108Z"
   },
   {
    "duration": 6,
    "start_time": "2023-01-16T18:23:56.980Z"
   },
   {
    "duration": 7,
    "start_time": "2023-01-16T18:23:57.905Z"
   },
   {
    "duration": 6,
    "start_time": "2023-01-16T18:24:49.932Z"
   },
   {
    "duration": 2984,
    "start_time": "2023-01-16T18:30:11.924Z"
   },
   {
    "duration": 6,
    "start_time": "2023-01-16T18:30:18.604Z"
   },
   {
    "duration": 5,
    "start_time": "2023-01-16T18:30:21.526Z"
   },
   {
    "duration": 6,
    "start_time": "2023-01-16T18:30:22.268Z"
   },
   {
    "duration": 11,
    "start_time": "2023-01-16T18:32:48.530Z"
   },
   {
    "duration": 3576,
    "start_time": "2023-01-16T18:33:02.840Z"
   },
   {
    "duration": 4,
    "start_time": "2023-01-16T18:33:09.258Z"
   },
   {
    "duration": 6,
    "start_time": "2023-01-16T18:33:12.031Z"
   },
   {
    "duration": 6,
    "start_time": "2023-01-16T18:33:12.994Z"
   },
   {
    "duration": 20,
    "start_time": "2023-01-16T18:37:46.172Z"
   },
   {
    "duration": 392,
    "start_time": "2023-01-16T18:38:57.808Z"
   },
   {
    "duration": 5,
    "start_time": "2023-01-16T18:38:59.305Z"
   },
   {
    "duration": 5,
    "start_time": "2023-01-16T18:39:00.523Z"
   },
   {
    "duration": 5,
    "start_time": "2023-01-16T18:39:02.305Z"
   },
   {
    "duration": 409,
    "start_time": "2023-01-16T18:39:30.011Z"
   },
   {
    "duration": 4,
    "start_time": "2023-01-16T18:39:31.225Z"
   },
   {
    "duration": 5,
    "start_time": "2023-01-16T18:39:32.155Z"
   },
   {
    "duration": 5,
    "start_time": "2023-01-16T18:39:33.206Z"
   },
   {
    "duration": 371,
    "start_time": "2023-01-16T18:39:57.385Z"
   },
   {
    "duration": 4,
    "start_time": "2023-01-16T18:39:59.140Z"
   },
   {
    "duration": 6,
    "start_time": "2023-01-16T18:39:59.950Z"
   },
   {
    "duration": 4,
    "start_time": "2023-01-16T18:40:00.716Z"
   },
   {
    "duration": 379,
    "start_time": "2023-01-16T18:40:48.208Z"
   },
   {
    "duration": 4,
    "start_time": "2023-01-16T18:40:51.296Z"
   },
   {
    "duration": 5,
    "start_time": "2023-01-16T18:40:52.446Z"
   },
   {
    "duration": 5,
    "start_time": "2023-01-16T18:40:53.254Z"
   },
   {
    "duration": 392,
    "start_time": "2023-01-16T18:41:24.029Z"
   },
   {
    "duration": 4,
    "start_time": "2023-01-16T18:41:25.167Z"
   },
   {
    "duration": 5,
    "start_time": "2023-01-16T18:41:25.753Z"
   },
   {
    "duration": 7,
    "start_time": "2023-01-16T18:41:26.335Z"
   },
   {
    "duration": 405,
    "start_time": "2023-01-16T18:41:31.759Z"
   },
   {
    "duration": 5,
    "start_time": "2023-01-16T18:41:32.846Z"
   },
   {
    "duration": 6,
    "start_time": "2023-01-16T18:41:33.303Z"
   },
   {
    "duration": 5,
    "start_time": "2023-01-16T18:41:33.716Z"
   },
   {
    "duration": 5,
    "start_time": "2023-01-16T18:42:43.606Z"
   },
   {
    "duration": 6,
    "start_time": "2023-01-16T18:42:48.601Z"
   },
   {
    "duration": 6,
    "start_time": "2023-01-16T18:43:04.349Z"
   },
   {
    "duration": 4,
    "start_time": "2023-01-16T18:46:30.063Z"
   },
   {
    "duration": 33,
    "start_time": "2023-01-16T18:46:32.866Z"
   },
   {
    "duration": 5,
    "start_time": "2023-01-16T18:47:00.255Z"
   },
   {
    "duration": 20,
    "start_time": "2023-01-16T18:47:01.758Z"
   },
   {
    "duration": 57,
    "start_time": "2023-01-16T18:47:20.740Z"
   },
   {
    "duration": 4,
    "start_time": "2023-01-16T18:47:49.541Z"
   },
   {
    "duration": 21,
    "start_time": "2023-01-16T18:47:51.947Z"
   },
   {
    "duration": 20,
    "start_time": "2023-01-16T18:47:54.285Z"
   },
   {
    "duration": 54,
    "start_time": "2023-01-16T18:47:56.146Z"
   },
   {
    "duration": 5,
    "start_time": "2023-01-16T18:48:04.220Z"
   },
   {
    "duration": 4,
    "start_time": "2023-01-16T18:48:06.529Z"
   },
   {
    "duration": 13,
    "start_time": "2023-01-16T18:48:43.055Z"
   },
   {
    "duration": 3,
    "start_time": "2023-01-16T18:49:31.869Z"
   },
   {
    "duration": 8,
    "start_time": "2023-01-16T18:49:32.479Z"
   },
   {
    "duration": 8,
    "start_time": "2023-01-16T18:49:33.356Z"
   },
   {
    "duration": 7,
    "start_time": "2023-01-16T18:49:34.100Z"
   },
   {
    "duration": 397,
    "start_time": "2023-01-16T18:49:44.033Z"
   },
   {
    "duration": 4,
    "start_time": "2023-01-16T18:49:44.752Z"
   },
   {
    "duration": 5,
    "start_time": "2023-01-16T18:49:45.636Z"
   },
   {
    "duration": 7,
    "start_time": "2023-01-16T18:49:46.189Z"
   },
   {
    "duration": 5,
    "start_time": "2023-01-16T18:50:14.016Z"
   },
   {
    "duration": 5,
    "start_time": "2023-01-16T18:50:30.495Z"
   },
   {
    "duration": 849,
    "start_time": "2023-01-16T18:59:51.034Z"
   },
   {
    "duration": 4,
    "start_time": "2023-01-16T18:59:53.353Z"
   },
   {
    "duration": 5,
    "start_time": "2023-01-16T18:59:59.161Z"
   },
   {
    "duration": 5,
    "start_time": "2023-01-16T19:00:00.940Z"
   },
   {
    "duration": 853,
    "start_time": "2023-01-16T19:00:12.345Z"
   },
   {
    "duration": 4,
    "start_time": "2023-01-16T19:00:13.697Z"
   },
   {
    "duration": 6,
    "start_time": "2023-01-16T19:00:14.959Z"
   },
   {
    "duration": 5,
    "start_time": "2023-01-16T19:00:15.630Z"
   },
   {
    "duration": 853,
    "start_time": "2023-01-16T19:00:37.434Z"
   },
   {
    "duration": 5,
    "start_time": "2023-01-16T19:00:39.734Z"
   },
   {
    "duration": 5,
    "start_time": "2023-01-16T19:00:41.550Z"
   },
   {
    "duration": 5,
    "start_time": "2023-01-16T19:00:42.707Z"
   },
   {
    "duration": 859,
    "start_time": "2023-01-16T19:00:49.382Z"
   },
   {
    "duration": 4,
    "start_time": "2023-01-16T19:00:50.279Z"
   },
   {
    "duration": 7,
    "start_time": "2023-01-16T19:00:51.151Z"
   },
   {
    "duration": 6,
    "start_time": "2023-01-16T19:00:52.337Z"
   },
   {
    "duration": 878,
    "start_time": "2023-01-16T19:01:09.170Z"
   },
   {
    "duration": 4,
    "start_time": "2023-01-16T19:01:10.051Z"
   },
   {
    "duration": 5,
    "start_time": "2023-01-16T19:01:10.802Z"
   },
   {
    "duration": 5,
    "start_time": "2023-01-16T19:01:11.730Z"
   },
   {
    "duration": 5,
    "start_time": "2023-01-16T19:09:16.794Z"
   },
   {
    "duration": 61,
    "start_time": "2023-01-16T19:09:18.146Z"
   },
   {
    "duration": 112,
    "start_time": "2023-01-16T19:09:20.485Z"
   },
   {
    "duration": 25,
    "start_time": "2023-01-16T19:09:21.764Z"
   },
   {
    "duration": 3,
    "start_time": "2023-01-16T19:09:39.009Z"
   },
   {
    "duration": 17,
    "start_time": "2023-01-16T19:09:39.834Z"
   },
   {
    "duration": 9,
    "start_time": "2023-01-16T19:33:04.911Z"
   },
   {
    "duration": 4,
    "start_time": "2023-01-16T19:33:10.328Z"
   },
   {
    "duration": 9,
    "start_time": "2023-01-16T19:33:10.747Z"
   },
   {
    "duration": 12,
    "start_time": "2023-01-16T19:33:16.250Z"
   },
   {
    "duration": 9,
    "start_time": "2023-01-16T19:33:21.602Z"
   },
   {
    "duration": 45,
    "start_time": "2023-01-16T19:36:23.636Z"
   },
   {
    "duration": 11,
    "start_time": "2023-01-16T19:36:38.273Z"
   },
   {
    "duration": 12,
    "start_time": "2023-01-16T19:36:49.496Z"
   },
   {
    "duration": 18,
    "start_time": "2023-01-16T19:36:59.486Z"
   },
   {
    "duration": 20,
    "start_time": "2023-01-16T19:39:00.030Z"
   },
   {
    "duration": 20,
    "start_time": "2023-01-16T19:39:17.160Z"
   },
   {
    "duration": 3,
    "start_time": "2023-01-16T19:40:05.264Z"
   },
   {
    "duration": 6,
    "start_time": "2023-01-16T19:40:10.963Z"
   },
   {
    "duration": 4,
    "start_time": "2023-01-16T19:43:53.193Z"
   },
   {
    "duration": 22,
    "start_time": "2023-01-16T19:43:59.389Z"
   },
   {
    "duration": 6,
    "start_time": "2023-01-16T19:44:06.963Z"
   },
   {
    "duration": 4,
    "start_time": "2023-01-16T19:44:37.476Z"
   },
   {
    "duration": 18,
    "start_time": "2023-01-16T19:44:38.530Z"
   },
   {
    "duration": 5,
    "start_time": "2023-01-16T19:44:39.976Z"
   },
   {
    "duration": 8,
    "start_time": "2023-01-16T19:45:24.669Z"
   },
   {
    "duration": 4,
    "start_time": "2023-01-16T19:45:34.173Z"
   },
   {
    "duration": 6,
    "start_time": "2023-01-16T19:45:40.154Z"
   },
   {
    "duration": 4,
    "start_time": "2023-01-16T19:47:45.860Z"
   },
   {
    "duration": 22,
    "start_time": "2023-01-16T19:47:46.686Z"
   },
   {
    "duration": 9,
    "start_time": "2023-01-16T19:47:48.617Z"
   },
   {
    "duration": 4,
    "start_time": "2023-01-16T19:50:34.465Z"
   },
   {
    "duration": 19,
    "start_time": "2023-01-16T19:50:36.306Z"
   },
   {
    "duration": 5,
    "start_time": "2023-01-16T19:50:42.158Z"
   },
   {
    "duration": 3,
    "start_time": "2023-01-16T19:51:12.684Z"
   },
   {
    "duration": 9,
    "start_time": "2023-01-16T19:51:13.479Z"
   },
   {
    "duration": 21,
    "start_time": "2023-01-16T19:51:14.574Z"
   },
   {
    "duration": 20,
    "start_time": "2023-01-16T19:51:40.519Z"
   },
   {
    "duration": 26,
    "start_time": "2023-01-16T19:51:41.886Z"
   },
   {
    "duration": 9,
    "start_time": "2023-01-16T19:51:47.574Z"
   },
   {
    "duration": 1336,
    "start_time": "2023-01-16T19:52:55.571Z"
   },
   {
    "duration": 5,
    "start_time": "2023-01-16T19:53:10.251Z"
   },
   {
    "duration": 5,
    "start_time": "2023-01-16T19:53:12.052Z"
   },
   {
    "duration": 5,
    "start_time": "2023-01-16T19:53:13.461Z"
   },
   {
    "duration": 49,
    "start_time": "2023-01-16T19:58:10.324Z"
   },
   {
    "duration": 5,
    "start_time": "2023-01-16T19:58:33.705Z"
   },
   {
    "duration": 1403,
    "start_time": "2023-01-16T19:58:59.747Z"
   },
   {
    "duration": 1309,
    "start_time": "2023-01-16T19:59:26.537Z"
   },
   {
    "duration": 1355,
    "start_time": "2023-01-16T19:59:42.944Z"
   },
   {
    "duration": 4,
    "start_time": "2023-01-16T20:01:41.957Z"
   },
   {
    "duration": 1327,
    "start_time": "2023-01-16T20:01:43.008Z"
   },
   {
    "duration": 1331,
    "start_time": "2023-01-16T20:01:44.336Z"
   },
   {
    "duration": 1362,
    "start_time": "2023-01-16T20:01:45.668Z"
   },
   {
    "duration": 4,
    "start_time": "2023-01-16T20:02:56.775Z"
   },
   {
    "duration": 1345,
    "start_time": "2023-01-16T20:02:57.452Z"
   },
   {
    "duration": 1355,
    "start_time": "2023-01-16T20:03:00.813Z"
   },
   {
    "duration": 1313,
    "start_time": "2023-01-16T20:03:02.170Z"
   },
   {
    "duration": 3,
    "start_time": "2023-01-16T20:03:46.431Z"
   },
   {
    "duration": 10,
    "start_time": "2023-01-16T20:03:47.203Z"
   },
   {
    "duration": 9,
    "start_time": "2023-01-16T20:03:47.972Z"
   },
   {
    "duration": 9,
    "start_time": "2023-01-16T20:03:48.835Z"
   },
   {
    "duration": 8,
    "start_time": "2023-01-16T20:10:15.599Z"
   },
   {
    "duration": 1414,
    "start_time": "2023-01-16T20:10:16.685Z"
   },
   {
    "duration": 1331,
    "start_time": "2023-01-16T20:10:21.216Z"
   },
   {
    "duration": 1057,
    "start_time": "2023-01-16T20:21:40.415Z"
   },
   {
    "duration": 403,
    "start_time": "2023-01-16T20:21:41.474Z"
   },
   {
    "duration": 21,
    "start_time": "2023-01-16T20:21:41.878Z"
   },
   {
    "duration": 12,
    "start_time": "2023-01-16T20:21:41.901Z"
   },
   {
    "duration": 53,
    "start_time": "2023-01-16T20:21:41.915Z"
   },
   {
    "duration": 30,
    "start_time": "2023-01-16T20:21:41.969Z"
   },
   {
    "duration": 4,
    "start_time": "2023-01-16T20:21:42.000Z"
   },
   {
    "duration": 11,
    "start_time": "2023-01-16T20:21:42.006Z"
   },
   {
    "duration": 9,
    "start_time": "2023-01-16T20:21:42.019Z"
   },
   {
    "duration": 17,
    "start_time": "2023-01-16T20:21:42.029Z"
   },
   {
    "duration": 9,
    "start_time": "2023-01-16T20:21:42.047Z"
   },
   {
    "duration": 12,
    "start_time": "2023-01-16T20:21:42.058Z"
   },
   {
    "duration": 72,
    "start_time": "2023-01-16T20:21:42.071Z"
   },
   {
    "duration": 16,
    "start_time": "2023-01-16T20:21:42.147Z"
   },
   {
    "duration": 5,
    "start_time": "2023-01-16T20:21:42.166Z"
   },
   {
    "duration": 8,
    "start_time": "2023-01-16T20:21:42.197Z"
   },
   {
    "duration": 6,
    "start_time": "2023-01-16T20:21:42.207Z"
   },
   {
    "duration": 20,
    "start_time": "2023-01-16T20:21:42.215Z"
   },
   {
    "duration": 10,
    "start_time": "2023-01-16T20:21:42.237Z"
   },
   {
    "duration": 12,
    "start_time": "2023-01-16T20:21:42.248Z"
   },
   {
    "duration": 76,
    "start_time": "2023-01-16T20:21:42.262Z"
   },
   {
    "duration": 13,
    "start_time": "2023-01-16T20:21:42.340Z"
   },
   {
    "duration": 5,
    "start_time": "2023-01-16T20:21:42.354Z"
   },
   {
    "duration": 9,
    "start_time": "2023-01-16T20:21:42.361Z"
   },
   {
    "duration": 26,
    "start_time": "2023-01-16T20:21:42.371Z"
   },
   {
    "duration": 13,
    "start_time": "2023-01-16T20:21:42.398Z"
   },
   {
    "duration": 3,
    "start_time": "2023-01-16T20:21:42.413Z"
   },
   {
    "duration": 20,
    "start_time": "2023-01-16T20:21:42.417Z"
   },
   {
    "duration": 105,
    "start_time": "2023-01-16T20:21:42.498Z"
   },
   {
    "duration": 192,
    "start_time": "2023-01-16T20:21:42.605Z"
   },
   {
    "duration": 4,
    "start_time": "2023-01-16T20:21:42.799Z"
   },
   {
    "duration": 94,
    "start_time": "2023-01-16T20:21:42.804Z"
   },
   {
    "duration": 22,
    "start_time": "2023-01-16T20:21:42.899Z"
   },
   {
    "duration": 9,
    "start_time": "2023-01-16T20:21:42.922Z"
   },
   {
    "duration": 9,
    "start_time": "2023-01-16T20:21:42.933Z"
   },
   {
    "duration": 5,
    "start_time": "2023-01-16T20:21:42.943Z"
   },
   {
    "duration": 1394,
    "start_time": "2023-01-16T20:21:42.949Z"
   },
   {
    "duration": 1468,
    "start_time": "2023-01-16T20:21:44.345Z"
   },
   {
    "duration": 1434,
    "start_time": "2023-01-16T20:21:45.815Z"
   },
   {
    "duration": 3,
    "start_time": "2023-01-17T11:34:40.485Z"
   },
   {
    "duration": 4,
    "start_time": "2023-01-17T11:35:33.191Z"
   },
   {
    "duration": 3,
    "start_time": "2023-01-17T11:39:58.433Z"
   },
   {
    "duration": 9,
    "start_time": "2023-01-17T11:40:13.866Z"
   },
   {
    "duration": 8,
    "start_time": "2023-01-17T11:40:14.813Z"
   },
   {
    "duration": 10,
    "start_time": "2023-01-17T11:40:15.291Z"
   },
   {
    "duration": 4,
    "start_time": "2023-01-17T11:42:41.504Z"
   },
   {
    "duration": 1348,
    "start_time": "2023-01-17T11:42:49.658Z"
   },
   {
    "duration": 1351,
    "start_time": "2023-01-17T11:42:59.352Z"
   },
   {
    "duration": 1309,
    "start_time": "2023-01-17T11:43:04.027Z"
   },
   {
    "duration": 4,
    "start_time": "2023-01-17T11:55:29.194Z"
   },
   {
    "duration": 1809,
    "start_time": "2023-01-17T11:55:33.373Z"
   },
   {
    "duration": 1486,
    "start_time": "2023-01-17T11:56:00.086Z"
   },
   {
    "duration": 1441,
    "start_time": "2023-01-17T11:56:11.106Z"
   },
   {
    "duration": 4,
    "start_time": "2023-01-17T11:59:43.031Z"
   },
   {
    "duration": 1448,
    "start_time": "2023-01-17T11:59:46.899Z"
   },
   {
    "duration": 9,
    "start_time": "2023-01-17T12:00:07.051Z"
   },
   {
    "duration": 4,
    "start_time": "2023-01-17T12:00:14.817Z"
   },
   {
    "duration": 5,
    "start_time": "2023-01-17T12:00:41.255Z"
   },
   {
    "duration": 6,
    "start_time": "2023-01-17T12:01:28.207Z"
   },
   {
    "duration": 5,
    "start_time": "2023-01-17T12:03:19.306Z"
   },
   {
    "duration": 1652,
    "start_time": "2023-01-17T12:03:25.782Z"
   },
   {
    "duration": 5,
    "start_time": "2023-01-17T12:04:03.384Z"
   },
   {
    "duration": 1649,
    "start_time": "2023-01-17T12:04:05.315Z"
   },
   {
    "duration": 5,
    "start_time": "2023-01-17T12:04:21.998Z"
   },
   {
    "duration": 1340,
    "start_time": "2023-01-17T12:04:24.018Z"
   },
   {
    "duration": 1348,
    "start_time": "2023-01-17T12:04:38.133Z"
   },
   {
    "duration": 1355,
    "start_time": "2023-01-17T12:04:42.626Z"
   },
   {
    "duration": 44,
    "start_time": "2023-01-17T12:08:42.745Z"
   }
  ],
  "kernelspec": {
   "display_name": "Python 3 (ipykernel)",
   "language": "python",
   "name": "python3"
  },
  "language_info": {
   "codemirror_mode": {
    "name": "ipython",
    "version": 3
   },
   "file_extension": ".py",
   "mimetype": "text/x-python",
   "name": "python",
   "nbconvert_exporter": "python",
   "pygments_lexer": "ipython3",
   "version": "3.9.12"
  },
  "toc": {
   "base_numbering": 1,
   "nav_menu": {},
   "number_sections": true,
   "sideBar": true,
   "skip_h1_title": true,
   "title_cell": "Table of Contents",
   "title_sidebar": "Contents",
   "toc_cell": false,
   "toc_position": {},
   "toc_section_display": true,
   "toc_window_display": true
  },
  "varInspector": {
   "cols": {
    "lenName": 16,
    "lenType": 16,
    "lenVar": 40
   },
   "kernels_config": {
    "python": {
     "delete_cmd_postfix": "",
     "delete_cmd_prefix": "del ",
     "library": "var_list.py",
     "varRefreshCmd": "print(var_dic_list())"
    },
    "r": {
     "delete_cmd_postfix": ") ",
     "delete_cmd_prefix": "rm(",
     "library": "var_list.r",
     "varRefreshCmd": "cat(var_dic_list()) "
    }
   },
   "types_to_exclude": [
    "module",
    "function",
    "builtin_function_or_method",
    "instance",
    "_Feature"
   ],
   "window_display": false
  }
 },
 "nbformat": 4,
 "nbformat_minor": 2
}
