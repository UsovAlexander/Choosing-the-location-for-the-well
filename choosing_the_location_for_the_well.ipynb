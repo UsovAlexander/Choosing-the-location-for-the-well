{
 "cells": [
  {
   "cell_type": "markdown",
   "metadata": {
    "id": "gHgJb3cy1iZ0"
   },
   "source": [
    "# Choosing the location for the well"
   ]
  },
  {
   "cell_type": "markdown",
   "metadata": {
    "id": "i9-2Vxn91iZ-"
   },
   "source": [
    "We need to decide where to drill a new well.\n",
    "We were provided with oil samples in three regions: in each 10,000 fields, where the quality of oil and the volume of its reserves were measured. Let's build a machine learning model that will help determine the region where mining will bring the greatest profit. Let's analyze the possible profits and risks with the *Bootstrap technique.*\n",
    "\n",
    "Steps to select a location:\n",
    "\n",
    "- We are looking for deposits in the selected region, we determine the values of the features for each;\n",
    "- We build a model and estimate the volume of stocks;\n",
    "- We choose the deposit with the highest estimates of values. The number of deposits depends on the company's budget and the cost of developing one well;\n",
    "- The profit is equal to the total profit of the selected fields.\n",
    "\n",
    "\n",
    "---\n",
    "\n",
    "\n",
    "- id — the unique identifier of the well;\n",
    "- f0, f1, f2 — three signs of points (no matter what they mean, but the signs themselves are significant);\n",
    "- product — the volume of reserves in the well (thousand barrels).\n",
    "\n"
   ]
  },
  {
   "cell_type": "markdown",
   "metadata": {
    "id": "0KnTBuiD1iZ-"
   },
   "source": [
    "## Loading and preparing data"
   ]
  },
  {
   "cell_type": "code",
   "execution_count": 1,
   "metadata": {
    "colab": {
     "base_uri": "https://localhost:8080/"
    },
    "id": "Zx1o3yholYp_",
    "outputId": "a7a74441-6abc-4544-fa8c-36c66e346569"
   },
   "outputs": [
    {
     "name": "stdout",
     "output_type": "stream",
     "text": [
      "Requirement already satisfied: catboost in /opt/anaconda3/lib/python3.9/site-packages (1.2)\n",
      "Requirement already satisfied: matplotlib in /opt/anaconda3/lib/python3.9/site-packages (from catboost) (3.5.1)\n",
      "Requirement already satisfied: scipy in /opt/anaconda3/lib/python3.9/site-packages (from catboost) (1.7.3)\n",
      "Requirement already satisfied: six in /opt/anaconda3/lib/python3.9/site-packages (from catboost) (1.16.0)\n",
      "Requirement already satisfied: numpy>=1.16.0 in /opt/anaconda3/lib/python3.9/site-packages (from catboost) (1.21.5)\n",
      "Requirement already satisfied: graphviz in /opt/anaconda3/lib/python3.9/site-packages (from catboost) (0.20.1)\n",
      "Requirement already satisfied: pandas>=0.24 in /opt/anaconda3/lib/python3.9/site-packages (from catboost) (1.4.2)\n",
      "Requirement already satisfied: plotly in /opt/anaconda3/lib/python3.9/site-packages (from catboost) (5.6.0)\n",
      "Requirement already satisfied: python-dateutil>=2.8.1 in /opt/anaconda3/lib/python3.9/site-packages (from pandas>=0.24->catboost) (2.8.2)\n",
      "Requirement already satisfied: pytz>=2020.1 in /opt/anaconda3/lib/python3.9/site-packages (from pandas>=0.24->catboost) (2021.3)\n",
      "Requirement already satisfied: packaging>=20.0 in /opt/anaconda3/lib/python3.9/site-packages (from matplotlib->catboost) (21.3)\n",
      "Requirement already satisfied: pillow>=6.2.0 in /opt/anaconda3/lib/python3.9/site-packages (from matplotlib->catboost) (9.0.1)\n",
      "Requirement already satisfied: cycler>=0.10 in /opt/anaconda3/lib/python3.9/site-packages (from matplotlib->catboost) (0.11.0)\n",
      "Requirement already satisfied: kiwisolver>=1.0.1 in /opt/anaconda3/lib/python3.9/site-packages (from matplotlib->catboost) (1.4.2)\n",
      "Requirement already satisfied: pyparsing>=2.2.1 in /opt/anaconda3/lib/python3.9/site-packages (from matplotlib->catboost) (3.0.4)\n",
      "Requirement already satisfied: fonttools>=4.22.0 in /opt/anaconda3/lib/python3.9/site-packages (from matplotlib->catboost) (4.25.0)\n",
      "Requirement already satisfied: tenacity>=6.2.0 in /opt/anaconda3/lib/python3.9/site-packages (from plotly->catboost) (8.0.1)\n"
     ]
    }
   ],
   "source": [
    "!pip install catboost"
   ]
  },
  {
   "cell_type": "code",
   "execution_count": 2,
   "metadata": {
    "id": "cLXcd7MU1iaC"
   },
   "outputs": [],
   "source": [
    "import pandas as pd\n",
    "import numpy as np\n",
    "import matplotlib.pyplot as plt\n",
    "import seaborn as sns\n",
    "\n",
    "from sklearn.model_selection import train_test_split, GridSearchCV\n",
    "from sklearn.metrics import mean_squared_error\n",
    "\n",
    "from catboost import CatBoostRegressor\n",
    "\n",
    "RANDOM_STATE = 42\n",
    "AMOUNT_OIL_WELLS = 200 # number of wells in the region for development\n",
    "DEVELOPMENT_BUDGET = 10_000_000_000 # budget for the development of one region\n",
    "PROFIT_PER_UNIT = 450_000 # revenue per unit of product"
   ]
  },
  {
   "cell_type": "code",
   "execution_count": 3,
   "metadata": {
    "id": "YM140Omt1iaE"
   },
   "outputs": [],
   "source": [
    "# Uploading datasets\n",
    "data_0 = pd.read_csv('https://code.s3.yandex.net/datasets/geo_data_0.csv')\n",
    "data_1 = pd.read_csv('https://code.s3.yandex.net/datasets/geo_data_1.csv')\n",
    "data_2 = pd.read_csv('https://code.s3.yandex.net/datasets/geo_data_2.csv')"
   ]
  },
  {
   "cell_type": "markdown",
   "metadata": {
    "id": "eyrT-Ae81iaE"
   },
   "source": [
    "### Preparation of the first dataset"
   ]
  },
  {
   "cell_type": "code",
   "execution_count": 4,
   "metadata": {
    "id": "7RxIk36e1iaJ"
   },
   "outputs": [],
   "source": [
    "# Creating a function to display information about a dataset\n",
    "def data_info(data):\n",
    "    display(data.head()), \n",
    "    print('-' * 20)\n",
    "    print('Missing values')\n",
    "    display(data.isna().sum()), \n",
    "    print('-' * 20)\n",
    "    print('Duplicates')\n",
    "    display(data.duplicated().sum()), \n",
    "    print('-' * 20)\n",
    "    print('Info')\n",
    "    display(data.info()), \n",
    "    print('-' * 20)\n",
    "    print('Discribe')\n",
    "    display(data.describe())"
   ]
  },
  {
   "cell_type": "code",
   "execution_count": 5,
   "metadata": {
    "colab": {
     "base_uri": "https://localhost:8080/",
     "height": 989
    },
    "id": "Hi7tt9t51iaJ",
    "outputId": "6827d7f2-4f31-4f2e-d367-68bf4207f39b"
   },
   "outputs": [
    {
     "data": {
      "text/html": [
       "<div>\n",
       "<style scoped>\n",
       "    .dataframe tbody tr th:only-of-type {\n",
       "        vertical-align: middle;\n",
       "    }\n",
       "\n",
       "    .dataframe tbody tr th {\n",
       "        vertical-align: top;\n",
       "    }\n",
       "\n",
       "    .dataframe thead th {\n",
       "        text-align: right;\n",
       "    }\n",
       "</style>\n",
       "<table border=\"1\" class=\"dataframe\">\n",
       "  <thead>\n",
       "    <tr style=\"text-align: right;\">\n",
       "      <th></th>\n",
       "      <th>id</th>\n",
       "      <th>f0</th>\n",
       "      <th>f1</th>\n",
       "      <th>f2</th>\n",
       "      <th>product</th>\n",
       "    </tr>\n",
       "  </thead>\n",
       "  <tbody>\n",
       "    <tr>\n",
       "      <th>0</th>\n",
       "      <td>txEyH</td>\n",
       "      <td>0.705745</td>\n",
       "      <td>-0.497823</td>\n",
       "      <td>1.221170</td>\n",
       "      <td>105.280062</td>\n",
       "    </tr>\n",
       "    <tr>\n",
       "      <th>1</th>\n",
       "      <td>2acmU</td>\n",
       "      <td>1.334711</td>\n",
       "      <td>-0.340164</td>\n",
       "      <td>4.365080</td>\n",
       "      <td>73.037750</td>\n",
       "    </tr>\n",
       "    <tr>\n",
       "      <th>2</th>\n",
       "      <td>409Wp</td>\n",
       "      <td>1.022732</td>\n",
       "      <td>0.151990</td>\n",
       "      <td>1.419926</td>\n",
       "      <td>85.265647</td>\n",
       "    </tr>\n",
       "    <tr>\n",
       "      <th>3</th>\n",
       "      <td>iJLyR</td>\n",
       "      <td>-0.032172</td>\n",
       "      <td>0.139033</td>\n",
       "      <td>2.978566</td>\n",
       "      <td>168.620776</td>\n",
       "    </tr>\n",
       "    <tr>\n",
       "      <th>4</th>\n",
       "      <td>Xdl7t</td>\n",
       "      <td>1.988431</td>\n",
       "      <td>0.155413</td>\n",
       "      <td>4.751769</td>\n",
       "      <td>154.036647</td>\n",
       "    </tr>\n",
       "  </tbody>\n",
       "</table>\n",
       "</div>"
      ],
      "text/plain": [
       "      id        f0        f1        f2     product\n",
       "0  txEyH  0.705745 -0.497823  1.221170  105.280062\n",
       "1  2acmU  1.334711 -0.340164  4.365080   73.037750\n",
       "2  409Wp  1.022732  0.151990  1.419926   85.265647\n",
       "3  iJLyR -0.032172  0.139033  2.978566  168.620776\n",
       "4  Xdl7t  1.988431  0.155413  4.751769  154.036647"
      ]
     },
     "metadata": {},
     "output_type": "display_data"
    },
    {
     "name": "stdout",
     "output_type": "stream",
     "text": [
      "--------------------\n",
      "Missing values\n"
     ]
    },
    {
     "data": {
      "text/plain": [
       "id         0\n",
       "f0         0\n",
       "f1         0\n",
       "f2         0\n",
       "product    0\n",
       "dtype: int64"
      ]
     },
     "metadata": {},
     "output_type": "display_data"
    },
    {
     "name": "stdout",
     "output_type": "stream",
     "text": [
      "--------------------\n",
      "Duplicates\n"
     ]
    },
    {
     "data": {
      "text/plain": [
       "0"
      ]
     },
     "metadata": {},
     "output_type": "display_data"
    },
    {
     "name": "stdout",
     "output_type": "stream",
     "text": [
      "--------------------\n",
      "Info\n",
      "<class 'pandas.core.frame.DataFrame'>\n",
      "RangeIndex: 100000 entries, 0 to 99999\n",
      "Data columns (total 5 columns):\n",
      " #   Column   Non-Null Count   Dtype  \n",
      "---  ------   --------------   -----  \n",
      " 0   id       100000 non-null  object \n",
      " 1   f0       100000 non-null  float64\n",
      " 2   f1       100000 non-null  float64\n",
      " 3   f2       100000 non-null  float64\n",
      " 4   product  100000 non-null  float64\n",
      "dtypes: float64(4), object(1)\n",
      "memory usage: 3.8+ MB\n"
     ]
    },
    {
     "data": {
      "text/plain": [
       "None"
      ]
     },
     "metadata": {},
     "output_type": "display_data"
    },
    {
     "name": "stdout",
     "output_type": "stream",
     "text": [
      "--------------------\n",
      "Discribe\n"
     ]
    },
    {
     "data": {
      "text/html": [
       "<div>\n",
       "<style scoped>\n",
       "    .dataframe tbody tr th:only-of-type {\n",
       "        vertical-align: middle;\n",
       "    }\n",
       "\n",
       "    .dataframe tbody tr th {\n",
       "        vertical-align: top;\n",
       "    }\n",
       "\n",
       "    .dataframe thead th {\n",
       "        text-align: right;\n",
       "    }\n",
       "</style>\n",
       "<table border=\"1\" class=\"dataframe\">\n",
       "  <thead>\n",
       "    <tr style=\"text-align: right;\">\n",
       "      <th></th>\n",
       "      <th>f0</th>\n",
       "      <th>f1</th>\n",
       "      <th>f2</th>\n",
       "      <th>product</th>\n",
       "    </tr>\n",
       "  </thead>\n",
       "  <tbody>\n",
       "    <tr>\n",
       "      <th>count</th>\n",
       "      <td>100000.000000</td>\n",
       "      <td>100000.000000</td>\n",
       "      <td>100000.000000</td>\n",
       "      <td>100000.000000</td>\n",
       "    </tr>\n",
       "    <tr>\n",
       "      <th>mean</th>\n",
       "      <td>0.500419</td>\n",
       "      <td>0.250143</td>\n",
       "      <td>2.502647</td>\n",
       "      <td>92.500000</td>\n",
       "    </tr>\n",
       "    <tr>\n",
       "      <th>std</th>\n",
       "      <td>0.871832</td>\n",
       "      <td>0.504433</td>\n",
       "      <td>3.248248</td>\n",
       "      <td>44.288691</td>\n",
       "    </tr>\n",
       "    <tr>\n",
       "      <th>min</th>\n",
       "      <td>-1.408605</td>\n",
       "      <td>-0.848218</td>\n",
       "      <td>-12.088328</td>\n",
       "      <td>0.000000</td>\n",
       "    </tr>\n",
       "    <tr>\n",
       "      <th>25%</th>\n",
       "      <td>-0.072580</td>\n",
       "      <td>-0.200881</td>\n",
       "      <td>0.287748</td>\n",
       "      <td>56.497507</td>\n",
       "    </tr>\n",
       "    <tr>\n",
       "      <th>50%</th>\n",
       "      <td>0.502360</td>\n",
       "      <td>0.250252</td>\n",
       "      <td>2.515969</td>\n",
       "      <td>91.849972</td>\n",
       "    </tr>\n",
       "    <tr>\n",
       "      <th>75%</th>\n",
       "      <td>1.073581</td>\n",
       "      <td>0.700646</td>\n",
       "      <td>4.715088</td>\n",
       "      <td>128.564089</td>\n",
       "    </tr>\n",
       "    <tr>\n",
       "      <th>max</th>\n",
       "      <td>2.362331</td>\n",
       "      <td>1.343769</td>\n",
       "      <td>16.003790</td>\n",
       "      <td>185.364347</td>\n",
       "    </tr>\n",
       "  </tbody>\n",
       "</table>\n",
       "</div>"
      ],
      "text/plain": [
       "                  f0             f1             f2        product\n",
       "count  100000.000000  100000.000000  100000.000000  100000.000000\n",
       "mean        0.500419       0.250143       2.502647      92.500000\n",
       "std         0.871832       0.504433       3.248248      44.288691\n",
       "min        -1.408605      -0.848218     -12.088328       0.000000\n",
       "25%        -0.072580      -0.200881       0.287748      56.497507\n",
       "50%         0.502360       0.250252       2.515969      91.849972\n",
       "75%         1.073581       0.700646       4.715088     128.564089\n",
       "max         2.362331       1.343769      16.003790     185.364347"
      ]
     },
     "metadata": {},
     "output_type": "display_data"
    }
   ],
   "source": [
    "# Check the first dataset\n",
    "data_info(data_0)"
   ]
  },
  {
   "cell_type": "markdown",
   "metadata": {
    "id": "Omqvol3q1iaK"
   },
   "source": [
    "There are no omissions and duplicates, we divide it into training and test samples."
   ]
  },
  {
   "cell_type": "code",
   "execution_count": 6,
   "metadata": {
    "id": "XPfPXSWk1iaK"
   },
   "outputs": [],
   "source": [
    "X_0 = data_0.drop(['id', 'product'], axis=1)\n",
    "y_0 = data_0['product']"
   ]
  },
  {
   "cell_type": "code",
   "execution_count": 7,
   "metadata": {
    "id": "93OdggDb1iaK"
   },
   "outputs": [],
   "source": [
    "X_0_train, X_0_test, y_0_train, y_0_test = train_test_split(X_0, y_0, test_size=0.25, random_state=RANDOM_STATE)"
   ]
  },
  {
   "cell_type": "code",
   "execution_count": 8,
   "metadata": {
    "colab": {
     "base_uri": "https://localhost:8080/"
    },
    "id": "p0lSFGMGdODm",
    "outputId": "6605473d-4dd0-4eab-ee73-c3166975f608"
   },
   "outputs": [
    {
     "data": {
      "text/plain": [
       "((75000, 3), (25000, 3), (75000,), (25000,))"
      ]
     },
     "execution_count": 8,
     "metadata": {},
     "output_type": "execute_result"
    }
   ],
   "source": [
    "X_0_train.shape, X_0_test.shape, y_0_train.shape, y_0_test.shape"
   ]
  },
  {
   "cell_type": "markdown",
   "metadata": {
    "id": "sKFHEMFm1iaK"
   },
   "source": [
    "### Preparation of the second dataset"
   ]
  },
  {
   "cell_type": "code",
   "execution_count": 9,
   "metadata": {
    "colab": {
     "base_uri": "https://localhost:8080/",
     "height": 989
    },
    "id": "tcBlM1T91iaK",
    "outputId": "5da8eafb-e502-4866-abae-df86ab8ffc3f"
   },
   "outputs": [
    {
     "data": {
      "text/html": [
       "<div>\n",
       "<style scoped>\n",
       "    .dataframe tbody tr th:only-of-type {\n",
       "        vertical-align: middle;\n",
       "    }\n",
       "\n",
       "    .dataframe tbody tr th {\n",
       "        vertical-align: top;\n",
       "    }\n",
       "\n",
       "    .dataframe thead th {\n",
       "        text-align: right;\n",
       "    }\n",
       "</style>\n",
       "<table border=\"1\" class=\"dataframe\">\n",
       "  <thead>\n",
       "    <tr style=\"text-align: right;\">\n",
       "      <th></th>\n",
       "      <th>id</th>\n",
       "      <th>f0</th>\n",
       "      <th>f1</th>\n",
       "      <th>f2</th>\n",
       "      <th>product</th>\n",
       "    </tr>\n",
       "  </thead>\n",
       "  <tbody>\n",
       "    <tr>\n",
       "      <th>0</th>\n",
       "      <td>kBEdx</td>\n",
       "      <td>-15.001348</td>\n",
       "      <td>-8.276000</td>\n",
       "      <td>-0.005876</td>\n",
       "      <td>3.179103</td>\n",
       "    </tr>\n",
       "    <tr>\n",
       "      <th>1</th>\n",
       "      <td>62mP7</td>\n",
       "      <td>14.272088</td>\n",
       "      <td>-3.475083</td>\n",
       "      <td>0.999183</td>\n",
       "      <td>26.953261</td>\n",
       "    </tr>\n",
       "    <tr>\n",
       "      <th>2</th>\n",
       "      <td>vyE1P</td>\n",
       "      <td>6.263187</td>\n",
       "      <td>-5.948386</td>\n",
       "      <td>5.001160</td>\n",
       "      <td>134.766305</td>\n",
       "    </tr>\n",
       "    <tr>\n",
       "      <th>3</th>\n",
       "      <td>KcrkZ</td>\n",
       "      <td>-13.081196</td>\n",
       "      <td>-11.506057</td>\n",
       "      <td>4.999415</td>\n",
       "      <td>137.945408</td>\n",
       "    </tr>\n",
       "    <tr>\n",
       "      <th>4</th>\n",
       "      <td>AHL4O</td>\n",
       "      <td>12.702195</td>\n",
       "      <td>-8.147433</td>\n",
       "      <td>5.004363</td>\n",
       "      <td>134.766305</td>\n",
       "    </tr>\n",
       "  </tbody>\n",
       "</table>\n",
       "</div>"
      ],
      "text/plain": [
       "      id         f0         f1        f2     product\n",
       "0  kBEdx -15.001348  -8.276000 -0.005876    3.179103\n",
       "1  62mP7  14.272088  -3.475083  0.999183   26.953261\n",
       "2  vyE1P   6.263187  -5.948386  5.001160  134.766305\n",
       "3  KcrkZ -13.081196 -11.506057  4.999415  137.945408\n",
       "4  AHL4O  12.702195  -8.147433  5.004363  134.766305"
      ]
     },
     "metadata": {},
     "output_type": "display_data"
    },
    {
     "name": "stdout",
     "output_type": "stream",
     "text": [
      "--------------------\n",
      "Missing values\n"
     ]
    },
    {
     "data": {
      "text/plain": [
       "id         0\n",
       "f0         0\n",
       "f1         0\n",
       "f2         0\n",
       "product    0\n",
       "dtype: int64"
      ]
     },
     "metadata": {},
     "output_type": "display_data"
    },
    {
     "name": "stdout",
     "output_type": "stream",
     "text": [
      "--------------------\n",
      "Duplicates\n"
     ]
    },
    {
     "data": {
      "text/plain": [
       "0"
      ]
     },
     "metadata": {},
     "output_type": "display_data"
    },
    {
     "name": "stdout",
     "output_type": "stream",
     "text": [
      "--------------------\n",
      "Info\n",
      "<class 'pandas.core.frame.DataFrame'>\n",
      "RangeIndex: 100000 entries, 0 to 99999\n",
      "Data columns (total 5 columns):\n",
      " #   Column   Non-Null Count   Dtype  \n",
      "---  ------   --------------   -----  \n",
      " 0   id       100000 non-null  object \n",
      " 1   f0       100000 non-null  float64\n",
      " 2   f1       100000 non-null  float64\n",
      " 3   f2       100000 non-null  float64\n",
      " 4   product  100000 non-null  float64\n",
      "dtypes: float64(4), object(1)\n",
      "memory usage: 3.8+ MB\n"
     ]
    },
    {
     "data": {
      "text/plain": [
       "None"
      ]
     },
     "metadata": {},
     "output_type": "display_data"
    },
    {
     "name": "stdout",
     "output_type": "stream",
     "text": [
      "--------------------\n",
      "Discribe\n"
     ]
    },
    {
     "data": {
      "text/html": [
       "<div>\n",
       "<style scoped>\n",
       "    .dataframe tbody tr th:only-of-type {\n",
       "        vertical-align: middle;\n",
       "    }\n",
       "\n",
       "    .dataframe tbody tr th {\n",
       "        vertical-align: top;\n",
       "    }\n",
       "\n",
       "    .dataframe thead th {\n",
       "        text-align: right;\n",
       "    }\n",
       "</style>\n",
       "<table border=\"1\" class=\"dataframe\">\n",
       "  <thead>\n",
       "    <tr style=\"text-align: right;\">\n",
       "      <th></th>\n",
       "      <th>f0</th>\n",
       "      <th>f1</th>\n",
       "      <th>f2</th>\n",
       "      <th>product</th>\n",
       "    </tr>\n",
       "  </thead>\n",
       "  <tbody>\n",
       "    <tr>\n",
       "      <th>count</th>\n",
       "      <td>100000.000000</td>\n",
       "      <td>100000.000000</td>\n",
       "      <td>100000.000000</td>\n",
       "      <td>100000.000000</td>\n",
       "    </tr>\n",
       "    <tr>\n",
       "      <th>mean</th>\n",
       "      <td>1.141296</td>\n",
       "      <td>-4.796579</td>\n",
       "      <td>2.494541</td>\n",
       "      <td>68.825000</td>\n",
       "    </tr>\n",
       "    <tr>\n",
       "      <th>std</th>\n",
       "      <td>8.965932</td>\n",
       "      <td>5.119872</td>\n",
       "      <td>1.703572</td>\n",
       "      <td>45.944423</td>\n",
       "    </tr>\n",
       "    <tr>\n",
       "      <th>min</th>\n",
       "      <td>-31.609576</td>\n",
       "      <td>-26.358598</td>\n",
       "      <td>-0.018144</td>\n",
       "      <td>0.000000</td>\n",
       "    </tr>\n",
       "    <tr>\n",
       "      <th>25%</th>\n",
       "      <td>-6.298551</td>\n",
       "      <td>-8.267985</td>\n",
       "      <td>1.000021</td>\n",
       "      <td>26.953261</td>\n",
       "    </tr>\n",
       "    <tr>\n",
       "      <th>50%</th>\n",
       "      <td>1.153055</td>\n",
       "      <td>-4.813172</td>\n",
       "      <td>2.011479</td>\n",
       "      <td>57.085625</td>\n",
       "    </tr>\n",
       "    <tr>\n",
       "      <th>75%</th>\n",
       "      <td>8.621015</td>\n",
       "      <td>-1.332816</td>\n",
       "      <td>3.999904</td>\n",
       "      <td>107.813044</td>\n",
       "    </tr>\n",
       "    <tr>\n",
       "      <th>max</th>\n",
       "      <td>29.421755</td>\n",
       "      <td>18.734063</td>\n",
       "      <td>5.019721</td>\n",
       "      <td>137.945408</td>\n",
       "    </tr>\n",
       "  </tbody>\n",
       "</table>\n",
       "</div>"
      ],
      "text/plain": [
       "                  f0             f1             f2        product\n",
       "count  100000.000000  100000.000000  100000.000000  100000.000000\n",
       "mean        1.141296      -4.796579       2.494541      68.825000\n",
       "std         8.965932       5.119872       1.703572      45.944423\n",
       "min       -31.609576     -26.358598      -0.018144       0.000000\n",
       "25%        -6.298551      -8.267985       1.000021      26.953261\n",
       "50%         1.153055      -4.813172       2.011479      57.085625\n",
       "75%         8.621015      -1.332816       3.999904     107.813044\n",
       "max        29.421755      18.734063       5.019721     137.945408"
      ]
     },
     "metadata": {},
     "output_type": "display_data"
    }
   ],
   "source": [
    "data_info(data_1)"
   ]
  },
  {
   "cell_type": "markdown",
   "metadata": {
    "id": "Qy-Nt52jdpgl"
   },
   "source": [
    "There are no omissions and duplicates, we divide it into training and test samples."
   ]
  },
  {
   "cell_type": "code",
   "execution_count": 10,
   "metadata": {
    "id": "6nRsEhIn1iaK"
   },
   "outputs": [],
   "source": [
    "X_1 = data_1.drop(['id', 'product'], axis=1)\n",
    "y_1 = data_1['product']"
   ]
  },
  {
   "cell_type": "code",
   "execution_count": 11,
   "metadata": {
    "id": "fvtz6gYy1iaL"
   },
   "outputs": [],
   "source": [
    "X_1_train, X_1_test, y_1_train, y_1_test = train_test_split(X_1, y_1, test_size=0.25, random_state=RANDOM_STATE)"
   ]
  },
  {
   "cell_type": "code",
   "execution_count": 12,
   "metadata": {
    "colab": {
     "base_uri": "https://localhost:8080/"
    },
    "id": "Svw1ULU0d5C_",
    "outputId": "eb7a79d7-c208-4b7a-f6ab-fdf97d0229fe"
   },
   "outputs": [
    {
     "data": {
      "text/plain": [
       "((75000, 3), (25000, 3), (75000,), (25000,))"
      ]
     },
     "execution_count": 12,
     "metadata": {},
     "output_type": "execute_result"
    }
   ],
   "source": [
    "X_1_train.shape, X_1_test.shape, y_1_train.shape, y_1_test.shape"
   ]
  },
  {
   "cell_type": "markdown",
   "metadata": {
    "id": "7j-W4uVi1iaL"
   },
   "source": [
    "### Preparation of the third dataset"
   ]
  },
  {
   "cell_type": "code",
   "execution_count": 13,
   "metadata": {
    "colab": {
     "base_uri": "https://localhost:8080/",
     "height": 989
    },
    "id": "fOHdvutb1iaL",
    "outputId": "3e1478de-bac9-449d-aa25-d1b118a2b1eb",
    "scrolled": true
   },
   "outputs": [
    {
     "data": {
      "text/html": [
       "<div>\n",
       "<style scoped>\n",
       "    .dataframe tbody tr th:only-of-type {\n",
       "        vertical-align: middle;\n",
       "    }\n",
       "\n",
       "    .dataframe tbody tr th {\n",
       "        vertical-align: top;\n",
       "    }\n",
       "\n",
       "    .dataframe thead th {\n",
       "        text-align: right;\n",
       "    }\n",
       "</style>\n",
       "<table border=\"1\" class=\"dataframe\">\n",
       "  <thead>\n",
       "    <tr style=\"text-align: right;\">\n",
       "      <th></th>\n",
       "      <th>id</th>\n",
       "      <th>f0</th>\n",
       "      <th>f1</th>\n",
       "      <th>f2</th>\n",
       "      <th>product</th>\n",
       "    </tr>\n",
       "  </thead>\n",
       "  <tbody>\n",
       "    <tr>\n",
       "      <th>0</th>\n",
       "      <td>fwXo0</td>\n",
       "      <td>-1.146987</td>\n",
       "      <td>0.963328</td>\n",
       "      <td>-0.828965</td>\n",
       "      <td>27.758673</td>\n",
       "    </tr>\n",
       "    <tr>\n",
       "      <th>1</th>\n",
       "      <td>WJtFt</td>\n",
       "      <td>0.262778</td>\n",
       "      <td>0.269839</td>\n",
       "      <td>-2.530187</td>\n",
       "      <td>56.069697</td>\n",
       "    </tr>\n",
       "    <tr>\n",
       "      <th>2</th>\n",
       "      <td>ovLUW</td>\n",
       "      <td>0.194587</td>\n",
       "      <td>0.289035</td>\n",
       "      <td>-5.586433</td>\n",
       "      <td>62.871910</td>\n",
       "    </tr>\n",
       "    <tr>\n",
       "      <th>3</th>\n",
       "      <td>q6cA6</td>\n",
       "      <td>2.236060</td>\n",
       "      <td>-0.553760</td>\n",
       "      <td>0.930038</td>\n",
       "      <td>114.572842</td>\n",
       "    </tr>\n",
       "    <tr>\n",
       "      <th>4</th>\n",
       "      <td>WPMUX</td>\n",
       "      <td>-0.515993</td>\n",
       "      <td>1.716266</td>\n",
       "      <td>5.899011</td>\n",
       "      <td>149.600746</td>\n",
       "    </tr>\n",
       "  </tbody>\n",
       "</table>\n",
       "</div>"
      ],
      "text/plain": [
       "      id        f0        f1        f2     product\n",
       "0  fwXo0 -1.146987  0.963328 -0.828965   27.758673\n",
       "1  WJtFt  0.262778  0.269839 -2.530187   56.069697\n",
       "2  ovLUW  0.194587  0.289035 -5.586433   62.871910\n",
       "3  q6cA6  2.236060 -0.553760  0.930038  114.572842\n",
       "4  WPMUX -0.515993  1.716266  5.899011  149.600746"
      ]
     },
     "metadata": {},
     "output_type": "display_data"
    },
    {
     "name": "stdout",
     "output_type": "stream",
     "text": [
      "--------------------\n",
      "Missing values\n"
     ]
    },
    {
     "data": {
      "text/plain": [
       "id         0\n",
       "f0         0\n",
       "f1         0\n",
       "f2         0\n",
       "product    0\n",
       "dtype: int64"
      ]
     },
     "metadata": {},
     "output_type": "display_data"
    },
    {
     "name": "stdout",
     "output_type": "stream",
     "text": [
      "--------------------\n",
      "Duplicates\n"
     ]
    },
    {
     "data": {
      "text/plain": [
       "0"
      ]
     },
     "metadata": {},
     "output_type": "display_data"
    },
    {
     "name": "stdout",
     "output_type": "stream",
     "text": [
      "--------------------\n",
      "Info\n",
      "<class 'pandas.core.frame.DataFrame'>\n",
      "RangeIndex: 100000 entries, 0 to 99999\n",
      "Data columns (total 5 columns):\n",
      " #   Column   Non-Null Count   Dtype  \n",
      "---  ------   --------------   -----  \n",
      " 0   id       100000 non-null  object \n",
      " 1   f0       100000 non-null  float64\n",
      " 2   f1       100000 non-null  float64\n",
      " 3   f2       100000 non-null  float64\n",
      " 4   product  100000 non-null  float64\n",
      "dtypes: float64(4), object(1)\n",
      "memory usage: 3.8+ MB\n"
     ]
    },
    {
     "data": {
      "text/plain": [
       "None"
      ]
     },
     "metadata": {},
     "output_type": "display_data"
    },
    {
     "name": "stdout",
     "output_type": "stream",
     "text": [
      "--------------------\n",
      "Discribe\n"
     ]
    },
    {
     "data": {
      "text/html": [
       "<div>\n",
       "<style scoped>\n",
       "    .dataframe tbody tr th:only-of-type {\n",
       "        vertical-align: middle;\n",
       "    }\n",
       "\n",
       "    .dataframe tbody tr th {\n",
       "        vertical-align: top;\n",
       "    }\n",
       "\n",
       "    .dataframe thead th {\n",
       "        text-align: right;\n",
       "    }\n",
       "</style>\n",
       "<table border=\"1\" class=\"dataframe\">\n",
       "  <thead>\n",
       "    <tr style=\"text-align: right;\">\n",
       "      <th></th>\n",
       "      <th>f0</th>\n",
       "      <th>f1</th>\n",
       "      <th>f2</th>\n",
       "      <th>product</th>\n",
       "    </tr>\n",
       "  </thead>\n",
       "  <tbody>\n",
       "    <tr>\n",
       "      <th>count</th>\n",
       "      <td>100000.000000</td>\n",
       "      <td>100000.000000</td>\n",
       "      <td>100000.000000</td>\n",
       "      <td>100000.000000</td>\n",
       "    </tr>\n",
       "    <tr>\n",
       "      <th>mean</th>\n",
       "      <td>0.002023</td>\n",
       "      <td>-0.002081</td>\n",
       "      <td>2.495128</td>\n",
       "      <td>95.000000</td>\n",
       "    </tr>\n",
       "    <tr>\n",
       "      <th>std</th>\n",
       "      <td>1.732045</td>\n",
       "      <td>1.730417</td>\n",
       "      <td>3.473445</td>\n",
       "      <td>44.749921</td>\n",
       "    </tr>\n",
       "    <tr>\n",
       "      <th>min</th>\n",
       "      <td>-8.760004</td>\n",
       "      <td>-7.084020</td>\n",
       "      <td>-11.970335</td>\n",
       "      <td>0.000000</td>\n",
       "    </tr>\n",
       "    <tr>\n",
       "      <th>25%</th>\n",
       "      <td>-1.162288</td>\n",
       "      <td>-1.174820</td>\n",
       "      <td>0.130359</td>\n",
       "      <td>59.450441</td>\n",
       "    </tr>\n",
       "    <tr>\n",
       "      <th>50%</th>\n",
       "      <td>0.009424</td>\n",
       "      <td>-0.009482</td>\n",
       "      <td>2.484236</td>\n",
       "      <td>94.925613</td>\n",
       "    </tr>\n",
       "    <tr>\n",
       "      <th>75%</th>\n",
       "      <td>1.158535</td>\n",
       "      <td>1.163678</td>\n",
       "      <td>4.858794</td>\n",
       "      <td>130.595027</td>\n",
       "    </tr>\n",
       "    <tr>\n",
       "      <th>max</th>\n",
       "      <td>7.238262</td>\n",
       "      <td>7.844801</td>\n",
       "      <td>16.739402</td>\n",
       "      <td>190.029838</td>\n",
       "    </tr>\n",
       "  </tbody>\n",
       "</table>\n",
       "</div>"
      ],
      "text/plain": [
       "                  f0             f1             f2        product\n",
       "count  100000.000000  100000.000000  100000.000000  100000.000000\n",
       "mean        0.002023      -0.002081       2.495128      95.000000\n",
       "std         1.732045       1.730417       3.473445      44.749921\n",
       "min        -8.760004      -7.084020     -11.970335       0.000000\n",
       "25%        -1.162288      -1.174820       0.130359      59.450441\n",
       "50%         0.009424      -0.009482       2.484236      94.925613\n",
       "75%         1.158535       1.163678       4.858794     130.595027\n",
       "max         7.238262       7.844801      16.739402     190.029838"
      ]
     },
     "metadata": {},
     "output_type": "display_data"
    }
   ],
   "source": [
    "data_info(data_2)"
   ]
  },
  {
   "cell_type": "markdown",
   "metadata": {
    "id": "zFYXDlpFeQ8G"
   },
   "source": [
    "There are also no omissions and duplicates in the third dataset, we divide it into training and test samples."
   ]
  },
  {
   "cell_type": "code",
   "execution_count": 14,
   "metadata": {
    "id": "_5T2u2-o1iaL"
   },
   "outputs": [],
   "source": [
    "X_2 = data_2.drop(['id', 'product'], axis=1)\n",
    "y_2 = data_2['product']"
   ]
  },
  {
   "cell_type": "code",
   "execution_count": 15,
   "metadata": {
    "id": "eGFumhwj1iaL"
   },
   "outputs": [],
   "source": [
    "X_2_train, X_2_test, y_2_train, y_2_test = train_test_split(X_2, y_2, test_size=0.25, random_state=RANDOM_STATE)"
   ]
  },
  {
   "cell_type": "code",
   "execution_count": 16,
   "metadata": {
    "id": "J14UJPLHwKoj"
   },
   "outputs": [
    {
     "data": {
      "text/plain": [
       "((75000, 3), (25000, 3), (75000,), (25000,))"
      ]
     },
     "execution_count": 16,
     "metadata": {},
     "output_type": "execute_result"
    }
   ],
   "source": [
    "X_2_train.shape, X_2_test.shape, y_2_train.shape, y_2_test.shape"
   ]
  },
  {
   "cell_type": "markdown",
   "metadata": {
    "id": "FjCvxTnv1iaL"
   },
   "source": [
    "All the necessary data have been prepared, we are starting training"
   ]
  },
  {
   "cell_type": "markdown",
   "metadata": {
    "id": "flcvnnz-1iaL"
   },
   "source": [
    "## Training and check of the model"
   ]
  },
  {
   "cell_type": "code",
   "execution_count": 17,
   "metadata": {
    "id": "YbqEbh4D1iaL"
   },
   "outputs": [],
   "source": [
    "# The function of calculating the average stock of raw materials and RMSE\n",
    "def model_lg(X_train, X_test, y_train, y_test):\n",
    "    model = CatBoostRegressor(random_state=RANDOM_STATE, verbose=False)\n",
    "    param = {'max_depth': [3, 5, 7],\n",
    "             'n_estimators': [1000, 2000, 3000]}\n",
    "    grid = GridSearchCV(model, param, cv=4, n_jobs=-1)         \n",
    "    grid.fit(X_train, y_train)\n",
    "    y_pred = grid.predict(X_test)\n",
    "    rmse = mean_squared_error(y_test, y_pred) ** 0.5\n",
    "    print('The average stock of raw materials:', pd.Series(y_pred).mean())\n",
    "    print('RMSE:', rmse)\n",
    "    return model, pd.Series(y_pred, index=y_test.index), rmse"
   ]
  },
  {
   "cell_type": "markdown",
   "metadata": {
    "id": "W-b32RYg1iaL"
   },
   "source": [
    "### The first region"
   ]
  },
  {
   "cell_type": "code",
   "execution_count": 18,
   "metadata": {
    "id": "M0zzRjRw1iaL",
    "scrolled": false
   },
   "outputs": [
    {
     "name": "stdout",
     "output_type": "stream",
     "text": [
      "The average stock of raw materials: 92.48936830833789\n",
      "RMSE: 37.20160004834114\n"
     ]
    }
   ],
   "source": [
    "model_0, y_0_pred , rmse_0 =  model_lg(X_0_train, X_0_test, y_0_train, y_0_test)"
   ]
  },
  {
   "cell_type": "markdown",
   "metadata": {
    "id": "WSH6aOiR1iaM"
   },
   "source": [
    "### The second region"
   ]
  },
  {
   "cell_type": "code",
   "execution_count": 19,
   "metadata": {
    "id": "Py9ctWww1iaM"
   },
   "outputs": [
    {
     "name": "stdout",
     "output_type": "stream",
     "text": [
      "The average stock of raw materials: 68.72667396646662\n",
      "RMSE: 2.044303221296074\n"
     ]
    }
   ],
   "source": [
    "model_1, y_1_pred, rmse_1 =  model_lg(X_1_train, X_1_test, y_1_train, y_1_test)"
   ]
  },
  {
   "cell_type": "markdown",
   "metadata": {
    "id": "Bq0Hzwef1iaM"
   },
   "source": [
    "### The third region"
   ]
  },
  {
   "cell_type": "code",
   "execution_count": 20,
   "metadata": {
    "id": "kLTWWNMK1iaM",
    "scrolled": true
   },
   "outputs": [
    {
     "name": "stdout",
     "output_type": "stream",
     "text": [
      "The average stock of raw materials: 94.759388351664\n",
      "RMSE: 37.63567482273371\n"
     ]
    }
   ],
   "source": [
    "model_2, y_2_pred, rmse_2 =  model_lg(X_2_train, X_2_test, y_2_train, y_2_test)"
   ]
  },
  {
   "cell_type": "markdown",
   "metadata": {
    "id": "-al212ud1iaM"
   },
   "source": [
    "The largest predicted average reserves of deposits were obtained in the third region."
   ]
  },
  {
   "cell_type": "markdown",
   "metadata": {
    "id": "EIvdRKoA1iaM"
   },
   "source": [
    "## Profit calculation"
   ]
  },
  {
   "cell_type": "code",
   "execution_count": 21,
   "metadata": {
    "id": "AZAY9_-_1iaM"
   },
   "outputs": [
    {
     "name": "stdout",
     "output_type": "stream",
     "text": [
      "Sufficient volume of raw materials for break-even development of a new well: 111.11111111111111\n"
     ]
    }
   ],
   "source": [
    "print('Sufficient volume of raw materials for break-even development of a new well:',\\\n",
    "      (DEVELOPMENT_BUDGET / AMOUNT_OIL_WELLS / PROFIT_PER_UNIT))"
   ]
  },
  {
   "cell_type": "markdown",
   "metadata": {
    "id": "gpmODU_u1iaO"
   },
   "source": [
    "No region satisfies the minimum average volume of raw materials reserves per well, if we take the average for all wells, let's see what happens if we take the top 200."
   ]
  },
  {
   "cell_type": "code",
   "execution_count": 22,
   "metadata": {
    "id": "XuL7FSZq1iaO"
   },
   "outputs": [],
   "source": [
    "# Profit calculation function based on predictions based on validation sample\n",
    "def profit(y_true, y_pred, count):\n",
    "     return round(y_true[y_pred.sort_values(ascending=False).index][:count].sum()\\\n",
    "                  * PROFIT_PER_UNIT - DEVELOPMENT_BUDGET, 0)"
   ]
  },
  {
   "cell_type": "code",
   "execution_count": 23,
   "metadata": {
    "id": "hum5DR_R1iaP"
   },
   "outputs": [
    {
     "data": {
      "text/plain": [
       "3711418360.0"
      ]
     },
     "execution_count": 23,
     "metadata": {},
     "output_type": "execute_result"
    }
   ],
   "source": [
    "profit(y_0_test, y_0_pred, AMOUNT_OIL_WELLS)"
   ]
  },
  {
   "cell_type": "code",
   "execution_count": 24,
   "metadata": {
    "id": "29vw9u8h1iaP"
   },
   "outputs": [
    {
     "data": {
      "text/plain": [
       "2413656101.0"
      ]
     },
     "execution_count": 24,
     "metadata": {},
     "output_type": "execute_result"
    }
   ],
   "source": [
    "profit(y_1_test, y_1_pred, AMOUNT_OIL_WELLS)"
   ]
  },
  {
   "cell_type": "code",
   "execution_count": 25,
   "metadata": {
    "id": "tmounEay1iaP"
   },
   "outputs": [
    {
     "data": {
      "text/plain": [
       "3498195093.0"
      ]
     },
     "execution_count": 25,
     "metadata": {},
     "output_type": "execute_result"
    }
   ],
   "source": [
    "profit(y_2_test, y_2_pred, AMOUNT_OIL_WELLS)"
   ]
  },
  {
   "cell_type": "markdown",
   "metadata": {
    "id": "wMHu74KA1iaQ"
   },
   "source": [
    "If we explore all the deposits in the regions and take the best of the best, then we will easily cover the costs and get a good profit. But since our budget is limited, let's see what happens if we take only 500 random wells."
   ]
  },
  {
   "cell_type": "markdown",
   "metadata": {
    "id": "oj-z_g8t1iaQ"
   },
   "source": [
    "## Calculation of profit and risks"
   ]
  },
  {
   "cell_type": "code",
   "execution_count": 26,
   "metadata": {
    "id": "BdDtSfUk1iaR",
    "scrolled": true
   },
   "outputs": [],
   "source": [
    "# Bootstrap\n",
    "def bootstrap(y_test, y_pred):\n",
    "    state = np.random.RandomState(RANDOM_STATE)\n",
    "    values = []\n",
    "    for i in range(1000):\n",
    "        subsample = y_test.sample(n=500, replace=True, random_state=state)\n",
    "        probs_subsample = y_pred[subsample.index]\n",
    "        values.append(profit(subsample, probs_subsample, AMOUNT_OIL_WELLS))\n",
    "\n",
    "    values=pd.Series(values)\n",
    "    plt.figure(figsize=(15,10))\n",
    "    plt.style.use('dark_background')\n",
    "    ax = sns.histplot(values, kde=False, bins=100)\n",
    "    bars = ax.patches\n",
    "    for bar in bars:\n",
    "        if bar.get_x() >= values.quantile(0.05) and\\\n",
    "        bar.get_x() + bar.get_width() <= values.quantile(0.95):\n",
    "            bar.set_facecolor('b')\n",
    "    plt.axvline(values.mean(), color='r', linestyle='--', label='Mean')\n",
    "    plt.title('Confidence interval of profit distribution')\n",
    "    plt.xlabel('Profit value')\n",
    "    plt.grid()\n",
    "    plt.show()\n",
    "    print('Average profit:', round(values.mean(),0))\n",
    "    print('Confidence interval', round(values.quantile(.025),0), round(values.quantile(.975),0))\n",
    "    print('Probability of loss:', values[values < 0].count() / len(values))\n",
    "    return [round(values.mean(),0), \n",
    "            round(values.quantile(.025),0), round(values.quantile(.975),0),\n",
    "            values[values < 0].count() / len(values)]"
   ]
  },
  {
   "cell_type": "code",
   "execution_count": 27,
   "metadata": {
    "id": "lkPfq25e1iaS",
    "scrolled": false
   },
   "outputs": [
    {
     "data": {
      "image/png": "[encoded data removed]",
      "text/plain": [
       "<Figure size 1080x720 with 1 Axes>"
      ]
     },
     "metadata": {
      "needs_background": "dark"
     },
     "output_type": "display_data"
    },
    {
     "name": "stdout",
     "output_type": "stream",
     "text": [
      "Average profit: 488140877.0\n",
      "Confidence interval -48138457.0 1027318959.0\n",
      "Probability of loss: 0.044\n"
     ]
    }
   ],
   "source": [
    "region1 = bootstrap(y_0_test, y_0_pred)"
   ]
  },
  {
   "cell_type": "code",
   "execution_count": 28,
   "metadata": {
    "id": "s-TCfK2x1iaS"
   },
   "outputs": [
    {
     "data": {
      "image/png": "[encoded data removed]",
      "text/plain": [
       "<Figure size 1080x720 with 1 Axes>"
      ]
     },
     "metadata": {},
     "output_type": "display_data"
    },
    {
     "name": "stdout",
     "output_type": "stream",
     "text": [
      "Average profit: 510729022.0\n",
      "Confidence interval 98870650.0 940034759.0\n",
      "Probability of loss: 0.009\n"
     ]
    }
   ],
   "source": [
    "region2 = bootstrap(y_1_test, y_1_pred)"
   ]
  },
  {
   "cell_type": "code",
   "execution_count": 29,
   "metadata": {
    "id": "By0nrHnR1iaS",
    "scrolled": false
   },
   "outputs": [
    {
     "data": {
      "image/png": "[encoded data removed]",
      "text/plain": [
       "<Figure size 1080x720 with 1 Axes>"
      ]
     },
     "metadata": {},
     "output_type": "display_data"
    },
    {
     "name": "stdout",
     "output_type": "stream",
     "text": [
      "Average profit: 728482940.0\n",
      "Confidence interval 184331708.0 1274524996.0\n",
      "Probability of loss: 0.003\n"
     ]
    }
   ],
   "source": [
    "region3 = bootstrap(y_2_test, y_2_pred)"
   ]
  },
  {
   "cell_type": "code",
   "execution_count": 30,
   "metadata": {},
   "outputs": [
    {
     "data": {
      "text/html": [
       "<div>\n",
       "<style scoped>\n",
       "    .dataframe tbody tr th:only-of-type {\n",
       "        vertical-align: middle;\n",
       "    }\n",
       "\n",
       "    .dataframe tbody tr th {\n",
       "        vertical-align: top;\n",
       "    }\n",
       "\n",
       "    .dataframe thead th {\n",
       "        text-align: right;\n",
       "    }\n",
       "</style>\n",
       "<table border=\"1\" class=\"dataframe\">\n",
       "  <thead>\n",
       "    <tr style=\"text-align: right;\">\n",
       "      <th></th>\n",
       "      <th>Average profit</th>\n",
       "      <th>Min profit</th>\n",
       "      <th>Max profit</th>\n",
       "      <th>Probability of loss</th>\n",
       "    </tr>\n",
       "  </thead>\n",
       "  <tbody>\n",
       "    <tr>\n",
       "      <th>region1</th>\n",
       "      <td>488140877.0</td>\n",
       "      <td>-48138457.0</td>\n",
       "      <td>1.027319e+09</td>\n",
       "      <td>0.044</td>\n",
       "    </tr>\n",
       "    <tr>\n",
       "      <th>regoin2</th>\n",
       "      <td>510729022.0</td>\n",
       "      <td>98870650.0</td>\n",
       "      <td>9.400348e+08</td>\n",
       "      <td>0.009</td>\n",
       "    </tr>\n",
       "    <tr>\n",
       "      <th>region3</th>\n",
       "      <td>728482940.0</td>\n",
       "      <td>184331708.0</td>\n",
       "      <td>1.274525e+09</td>\n",
       "      <td>0.003</td>\n",
       "    </tr>\n",
       "  </tbody>\n",
       "</table>\n",
       "</div>"
      ],
      "text/plain": [
       "         Average profit   Min profit    Max profit  Probability of loss\n",
       "region1     488140877.0  -48138457.0  1.027319e+09                0.044\n",
       "regoin2     510729022.0   98870650.0  9.400348e+08                0.009\n",
       "region3     728482940.0  184331708.0  1.274525e+09                0.003"
      ]
     },
     "execution_count": 30,
     "metadata": {},
     "output_type": "execute_result"
    }
   ],
   "source": [
    "pd.DataFrame([region1, region2, region3], columns=['Average profit', 'Min profit', \n",
    "                                                   'Max profit', 'Probability of loss'],\n",
    "            index=['region1', 'regoin2', 'region3'])"
   ]
  },
  {
   "cell_type": "markdown",
   "metadata": {
    "id": "aeWtMiCo1iaS"
   },
   "source": [
    "## Conclusion\n",
    "Catboost models were trained on data from three regions, and predictions were made on a test sample. According to the results of the forecasts, it was found that when examining all wells, all three regions make a profit. After conducting an initial analysis, selecting 500 random wells in the region and the top 200 of them, we see that region number 1 does not meet the break-even criteria. In regions No. 2 and 3, the probability of loss is less than 1%, which meets the selection criteria. The amount of profit that we can get in these regions is on average 510 and 728 million, respectively."
   ]
  },
  {
   "cell_type": "code",
   "execution_count": null,
   "metadata": {},
   "outputs": [],
   "source": []
  }
 ],
 "metadata": {
  "ExecuteTimeLog": [
   {
    "duration": 1035,
    "start_time": "2023-01-15T20:27:06.538Z"
   },
   {
    "duration": 742,
    "start_time": "2023-01-15T20:28:29.916Z"
   },
   {
    "duration": 19,
    "start_time": "2023-01-15T20:28:34.628Z"
   },
   {
    "duration": 11,
    "start_time": "2023-01-15T20:28:59.017Z"
   },
   {
    "duration": 14,
    "start_time": "2023-01-15T20:29:08.603Z"
   },
   {
    "duration": 10,
    "start_time": "2023-01-15T20:31:07.422Z"
   },
   {
    "duration": 39,
    "start_time": "2023-01-15T20:31:33.396Z"
   },
   {
    "duration": 46,
    "start_time": "2023-01-15T20:32:02.282Z"
   },
   {
    "duration": 49,
    "start_time": "2023-01-15T20:32:09.651Z"
   },
   {
    "duration": 97,
    "start_time": "2023-01-15T20:41:34.373Z"
   },
   {
    "duration": 5,
    "start_time": "2023-01-15T20:41:42.352Z"
   },
   {
    "duration": 11,
    "start_time": "2023-01-15T20:41:48.998Z"
   },
   {
    "duration": 8,
    "start_time": "2023-01-15T20:41:58.118Z"
   },
   {
    "duration": 5,
    "start_time": "2023-01-15T20:42:03.774Z"
   },
   {
    "duration": 8,
    "start_time": "2023-01-15T20:42:18.247Z"
   },
   {
    "duration": 7,
    "start_time": "2023-01-15T20:42:26.184Z"
   },
   {
    "duration": 7,
    "start_time": "2023-01-15T20:42:34.689Z"
   },
   {
    "duration": 8,
    "start_time": "2023-01-15T20:42:53.654Z"
   },
   {
    "duration": 4,
    "start_time": "2023-01-15T20:42:58.078Z"
   },
   {
    "duration": 8,
    "start_time": "2023-01-15T20:43:55.326Z"
   },
   {
    "duration": 9,
    "start_time": "2023-01-15T20:44:14.365Z"
   },
   {
    "duration": 42,
    "start_time": "2023-01-15T20:44:22.684Z"
   },
   {
    "duration": 4,
    "start_time": "2023-01-15T20:44:42.066Z"
   },
   {
    "duration": 7,
    "start_time": "2023-01-15T20:44:58.999Z"
   },
   {
    "duration": 4,
    "start_time": "2023-01-15T20:45:08.630Z"
   },
   {
    "duration": 15,
    "start_time": "2023-01-15T20:45:44.043Z"
   },
   {
    "duration": 13,
    "start_time": "2023-01-15T20:45:57.634Z"
   },
   {
    "duration": 10,
    "start_time": "2023-01-15T20:46:44.736Z"
   },
   {
    "duration": 9,
    "start_time": "2023-01-15T20:46:56.586Z"
   },
   {
    "duration": 43,
    "start_time": "2023-01-15T20:47:04.793Z"
   },
   {
    "duration": 14,
    "start_time": "2023-01-15T20:47:59.609Z"
   },
   {
    "duration": 6,
    "start_time": "2023-01-15T20:48:11.668Z"
   },
   {
    "duration": 6,
    "start_time": "2023-01-15T20:48:21.130Z"
   },
   {
    "duration": 8,
    "start_time": "2023-01-15T20:48:32.382Z"
   },
   {
    "duration": 5,
    "start_time": "2023-01-15T20:48:41.759Z"
   },
   {
    "duration": 12,
    "start_time": "2023-01-15T20:51:35.866Z"
   },
   {
    "duration": 14,
    "start_time": "2023-01-15T20:52:00.646Z"
   },
   {
    "duration": 13,
    "start_time": "2023-01-15T20:52:28.876Z"
   },
   {
    "duration": 4,
    "start_time": "2023-01-15T20:59:32.346Z"
   },
   {
    "duration": 4,
    "start_time": "2023-01-15T21:00:40.771Z"
   },
   {
    "duration": 4,
    "start_time": "2023-01-15T21:04:32.273Z"
   },
   {
    "duration": 10,
    "start_time": "2023-01-15T21:07:31.205Z"
   },
   {
    "duration": 12,
    "start_time": "2023-01-15T21:07:56.232Z"
   },
   {
    "duration": 3,
    "start_time": "2023-01-15T21:08:16.345Z"
   },
   {
    "duration": 22,
    "start_time": "2023-01-15T21:08:18.451Z"
   },
   {
    "duration": 12,
    "start_time": "2023-01-15T21:09:13.287Z"
   },
   {
    "duration": 15,
    "start_time": "2023-01-15T21:09:28.416Z"
   },
   {
    "duration": 1149,
    "start_time": "2023-01-15T21:23:35.165Z"
   },
   {
    "duration": 361,
    "start_time": "2023-01-15T21:23:36.316Z"
   },
   {
    "duration": 18,
    "start_time": "2023-01-15T21:23:36.679Z"
   },
   {
    "duration": 8,
    "start_time": "2023-01-15T21:23:36.699Z"
   },
   {
    "duration": 43,
    "start_time": "2023-01-15T21:23:36.709Z"
   },
   {
    "duration": 14,
    "start_time": "2023-01-15T21:23:36.753Z"
   },
   {
    "duration": 34,
    "start_time": "2023-01-15T21:23:36.769Z"
   },
   {
    "duration": 12,
    "start_time": "2023-01-15T21:23:36.805Z"
   },
   {
    "duration": 9,
    "start_time": "2023-01-15T21:23:36.818Z"
   },
   {
    "duration": 19,
    "start_time": "2023-01-15T21:23:36.829Z"
   },
   {
    "duration": 9,
    "start_time": "2023-01-15T21:23:36.850Z"
   },
   {
    "duration": 14,
    "start_time": "2023-01-15T21:23:36.860Z"
   },
   {
    "duration": 60,
    "start_time": "2023-01-15T21:23:36.875Z"
   },
   {
    "duration": 13,
    "start_time": "2023-01-15T21:23:36.937Z"
   },
   {
    "duration": 5,
    "start_time": "2023-01-15T21:23:36.952Z"
   },
   {
    "duration": 12,
    "start_time": "2023-01-15T21:23:36.959Z"
   },
   {
    "duration": 29,
    "start_time": "2023-01-15T21:23:36.973Z"
   },
   {
    "duration": 14,
    "start_time": "2023-01-15T21:23:37.004Z"
   },
   {
    "duration": 12,
    "start_time": "2023-01-15T21:23:37.020Z"
   },
   {
    "duration": 15,
    "start_time": "2023-01-15T21:23:37.033Z"
   },
   {
    "duration": 64,
    "start_time": "2023-01-15T21:23:37.050Z"
   },
   {
    "duration": 13,
    "start_time": "2023-01-15T21:23:37.116Z"
   },
   {
    "duration": 7,
    "start_time": "2023-01-15T21:23:37.130Z"
   },
   {
    "duration": 11,
    "start_time": "2023-01-15T21:23:37.139Z"
   },
   {
    "duration": 20,
    "start_time": "2023-01-15T21:23:37.152Z"
   },
   {
    "duration": 36,
    "start_time": "2023-01-15T21:23:37.173Z"
   },
   {
    "duration": 6,
    "start_time": "2023-01-15T21:23:37.211Z"
   },
   {
    "duration": 253,
    "start_time": "2023-01-15T21:23:37.220Z"
   },
   {
    "duration": 0,
    "start_time": "2023-01-15T21:23:37.474Z"
   },
   {
    "duration": 0,
    "start_time": "2023-01-15T21:23:37.476Z"
   },
   {
    "duration": 4,
    "start_time": "2023-01-15T21:24:21.277Z"
   },
   {
    "duration": 18,
    "start_time": "2023-01-15T21:24:23.960Z"
   },
   {
    "duration": 19,
    "start_time": "2023-01-15T21:24:28.033Z"
   },
   {
    "duration": 20,
    "start_time": "2023-01-15T21:24:30.245Z"
   },
   {
    "duration": 5,
    "start_time": "2023-01-15T21:39:21.124Z"
   },
   {
    "duration": 4,
    "start_time": "2023-01-15T21:47:04.282Z"
   },
   {
    "duration": 3,
    "start_time": "2023-01-15T21:48:17.724Z"
   },
   {
    "duration": 3,
    "start_time": "2023-01-15T21:50:46.847Z"
   },
   {
    "duration": 46,
    "start_time": "2023-01-15T21:53:03.882Z"
   },
   {
    "duration": 50,
    "start_time": "2023-01-15T21:53:28.718Z"
   },
   {
    "duration": 56,
    "start_time": "2023-01-15T21:53:36.294Z"
   },
   {
    "duration": 4,
    "start_time": "2023-01-15T21:53:59.139Z"
   },
   {
    "duration": 3,
    "start_time": "2023-01-15T22:04:32.362Z"
   },
   {
    "duration": 5,
    "start_time": "2023-01-15T22:05:40.283Z"
   },
   {
    "duration": 5,
    "start_time": "2023-01-15T22:05:47.239Z"
   },
   {
    "duration": 10,
    "start_time": "2023-01-15T22:08:13.854Z"
   },
   {
    "duration": 1105,
    "start_time": "2023-01-15T22:08:32.487Z"
   },
   {
    "duration": 399,
    "start_time": "2023-01-15T22:08:33.594Z"
   },
   {
    "duration": 20,
    "start_time": "2023-01-15T22:08:33.995Z"
   },
   {
    "duration": 13,
    "start_time": "2023-01-15T22:08:34.016Z"
   },
   {
    "duration": 45,
    "start_time": "2023-01-15T22:08:34.031Z"
   },
   {
    "duration": 39,
    "start_time": "2023-01-15T22:08:34.077Z"
   },
   {
    "duration": 4,
    "start_time": "2023-01-15T22:08:34.118Z"
   },
   {
    "duration": 10,
    "start_time": "2023-01-15T22:08:34.124Z"
   },
   {
    "duration": 6,
    "start_time": "2023-01-15T22:08:34.135Z"
   },
   {
    "duration": 13,
    "start_time": "2023-01-15T22:08:34.142Z"
   },
   {
    "duration": 8,
    "start_time": "2023-01-15T22:08:34.157Z"
   },
   {
    "duration": 39,
    "start_time": "2023-01-15T22:08:34.167Z"
   },
   {
    "duration": 50,
    "start_time": "2023-01-15T22:08:34.208Z"
   },
   {
    "duration": 12,
    "start_time": "2023-01-15T22:08:34.260Z"
   },
   {
    "duration": 5,
    "start_time": "2023-01-15T22:08:34.273Z"
   },
   {
    "duration": 18,
    "start_time": "2023-01-15T22:08:34.279Z"
   },
   {
    "duration": 5,
    "start_time": "2023-01-15T22:08:34.298Z"
   },
   {
    "duration": 25,
    "start_time": "2023-01-15T22:08:34.304Z"
   },
   {
    "duration": 9,
    "start_time": "2023-01-15T22:08:34.331Z"
   },
   {
    "duration": 15,
    "start_time": "2023-01-15T22:08:34.342Z"
   },
   {
    "duration": 62,
    "start_time": "2023-01-15T22:08:34.359Z"
   },
   {
    "duration": 14,
    "start_time": "2023-01-15T22:08:34.422Z"
   },
   {
    "duration": 6,
    "start_time": "2023-01-15T22:08:34.437Z"
   },
   {
    "duration": 9,
    "start_time": "2023-01-15T22:08:34.444Z"
   },
   {
    "duration": 7,
    "start_time": "2023-01-15T22:08:34.455Z"
   },
   {
    "duration": 38,
    "start_time": "2023-01-15T22:08:34.464Z"
   },
   {
    "duration": 7,
    "start_time": "2023-01-15T22:08:34.504Z"
   },
   {
    "duration": 82,
    "start_time": "2023-01-15T22:08:34.513Z"
   },
   {
    "duration": 108,
    "start_time": "2023-01-15T22:08:34.597Z"
   },
   {
    "duration": 218,
    "start_time": "2023-01-15T22:08:34.708Z"
   },
   {
    "duration": 72,
    "start_time": "2023-01-15T22:08:34.930Z"
   },
   {
    "duration": 208,
    "start_time": "2023-01-15T22:08:35.008Z"
   },
   {
    "duration": 9,
    "start_time": "2023-01-15T22:09:08.786Z"
   },
   {
    "duration": 7,
    "start_time": "2023-01-15T22:09:51.909Z"
   },
   {
    "duration": 46,
    "start_time": "2023-01-15T22:12:31.753Z"
   },
   {
    "duration": 4,
    "start_time": "2023-01-15T22:12:42.078Z"
   },
   {
    "duration": 9,
    "start_time": "2023-01-15T22:16:41.851Z"
   },
   {
    "duration": 4,
    "start_time": "2023-01-15T22:17:17.568Z"
   },
   {
    "duration": 21,
    "start_time": "2023-01-15T22:17:18.293Z"
   },
   {
    "duration": 19,
    "start_time": "2023-01-15T22:17:19.165Z"
   },
   {
    "duration": 20,
    "start_time": "2023-01-15T22:17:20.206Z"
   },
   {
    "duration": 3,
    "start_time": "2023-01-15T22:17:24.047Z"
   },
   {
    "duration": 6,
    "start_time": "2023-01-15T22:17:24.738Z"
   },
   {
    "duration": 10,
    "start_time": "2023-01-15T22:17:29.926Z"
   },
   {
    "duration": 7,
    "start_time": "2023-01-15T22:17:48.664Z"
   },
   {
    "duration": 9,
    "start_time": "2023-01-15T22:18:11.641Z"
   },
   {
    "duration": 1019,
    "start_time": "2023-01-15T22:19:34.141Z"
   },
   {
    "duration": 373,
    "start_time": "2023-01-15T22:19:35.162Z"
   },
   {
    "duration": 16,
    "start_time": "2023-01-15T22:19:35.537Z"
   },
   {
    "duration": 10,
    "start_time": "2023-01-15T22:19:35.555Z"
   },
   {
    "duration": 64,
    "start_time": "2023-01-15T22:19:35.567Z"
   },
   {
    "duration": 14,
    "start_time": "2023-01-15T22:19:35.633Z"
   },
   {
    "duration": 4,
    "start_time": "2023-01-15T22:19:35.649Z"
   },
   {
    "duration": 17,
    "start_time": "2023-01-15T22:19:35.654Z"
   },
   {
    "duration": 25,
    "start_time": "2023-01-15T22:19:35.672Z"
   },
   {
    "duration": 12,
    "start_time": "2023-01-15T22:19:35.699Z"
   },
   {
    "duration": 9,
    "start_time": "2023-01-15T22:19:35.713Z"
   },
   {
    "duration": 15,
    "start_time": "2023-01-15T22:19:35.724Z"
   },
   {
    "duration": 65,
    "start_time": "2023-01-15T22:19:35.741Z"
   },
   {
    "duration": 13,
    "start_time": "2023-01-15T22:19:35.809Z"
   },
   {
    "duration": 6,
    "start_time": "2023-01-15T22:19:35.824Z"
   },
   {
    "duration": 25,
    "start_time": "2023-01-15T22:19:35.831Z"
   },
   {
    "duration": 22,
    "start_time": "2023-01-15T22:19:35.857Z"
   },
   {
    "duration": 42,
    "start_time": "2023-01-15T22:19:35.881Z"
   },
   {
    "duration": 38,
    "start_time": "2023-01-15T22:19:35.925Z"
   },
   {
    "duration": 32,
    "start_time": "2023-01-15T22:19:35.965Z"
   },
   {
    "duration": 63,
    "start_time": "2023-01-15T22:19:36.000Z"
   },
   {
    "duration": 36,
    "start_time": "2023-01-15T22:19:36.065Z"
   },
   {
    "duration": 7,
    "start_time": "2023-01-15T22:19:36.103Z"
   },
   {
    "duration": 10,
    "start_time": "2023-01-15T22:19:36.112Z"
   },
   {
    "duration": 9,
    "start_time": "2023-01-15T22:19:36.124Z"
   },
   {
    "duration": 14,
    "start_time": "2023-01-15T22:19:36.135Z"
   },
   {
    "duration": 4,
    "start_time": "2023-01-15T22:19:36.151Z"
   },
   {
    "duration": 47,
    "start_time": "2023-01-15T22:19:36.157Z"
   },
   {
    "duration": 192,
    "start_time": "2023-01-15T22:19:36.205Z"
   },
   {
    "duration": 106,
    "start_time": "2023-01-15T22:19:36.399Z"
   },
   {
    "duration": 196,
    "start_time": "2023-01-15T22:19:36.506Z"
   },
   {
    "duration": 111,
    "start_time": "2023-01-15T22:19:36.704Z"
   },
   {
    "duration": 0,
    "start_time": "2023-01-15T22:19:36.816Z"
   },
   {
    "duration": 0,
    "start_time": "2023-01-15T22:19:36.818Z"
   },
   {
    "duration": 5,
    "start_time": "2023-01-15T22:21:33.269Z"
   },
   {
    "duration": 20,
    "start_time": "2023-01-15T22:21:38.315Z"
   },
   {
    "duration": 8,
    "start_time": "2023-01-15T22:22:34.298Z"
   },
   {
    "duration": 9,
    "start_time": "2023-01-15T22:23:01.267Z"
   },
   {
    "duration": 6,
    "start_time": "2023-01-15T22:23:30.011Z"
   },
   {
    "duration": 4,
    "start_time": "2023-01-15T22:23:43.177Z"
   },
   {
    "duration": 5,
    "start_time": "2023-01-15T22:23:56.010Z"
   },
   {
    "duration": 14,
    "start_time": "2023-01-15T22:24:24.580Z"
   },
   {
    "duration": 19,
    "start_time": "2023-01-15T22:24:30.006Z"
   },
   {
    "duration": 18,
    "start_time": "2023-01-15T22:24:37.551Z"
   },
   {
    "duration": 9,
    "start_time": "2023-01-15T22:24:59.318Z"
   },
   {
    "duration": 8,
    "start_time": "2023-01-15T22:25:04.027Z"
   },
   {
    "duration": 11,
    "start_time": "2023-01-15T22:26:20.607Z"
   },
   {
    "duration": 10,
    "start_time": "2023-01-15T22:26:32.917Z"
   },
   {
    "duration": 18,
    "start_time": "2023-01-15T22:26:58.560Z"
   },
   {
    "duration": 10,
    "start_time": "2023-01-15T22:29:21.239Z"
   },
   {
    "duration": 7,
    "start_time": "2023-01-15T22:29:30.626Z"
   },
   {
    "duration": 8,
    "start_time": "2023-01-15T22:31:30.282Z"
   },
   {
    "duration": 12,
    "start_time": "2023-01-15T22:31:34.655Z"
   },
   {
    "duration": 8,
    "start_time": "2023-01-15T22:31:38.938Z"
   },
   {
    "duration": 4,
    "start_time": "2023-01-15T22:31:50.014Z"
   },
   {
    "duration": 10,
    "start_time": "2023-01-15T22:31:55.828Z"
   },
   {
    "duration": 10,
    "start_time": "2023-01-15T22:32:04.734Z"
   },
   {
    "duration": 6,
    "start_time": "2023-01-15T22:32:22.094Z"
   },
   {
    "duration": 6,
    "start_time": "2023-01-15T22:32:53.160Z"
   },
   {
    "duration": 6,
    "start_time": "2023-01-15T22:33:00.605Z"
   },
   {
    "duration": 15,
    "start_time": "2023-01-15T22:33:25.806Z"
   },
   {
    "duration": 4,
    "start_time": "2023-01-15T22:33:46.716Z"
   },
   {
    "duration": 18,
    "start_time": "2023-01-15T22:34:05.833Z"
   },
   {
    "duration": 13,
    "start_time": "2023-01-15T22:34:34.965Z"
   },
   {
    "duration": 4,
    "start_time": "2023-01-15T22:35:33.943Z"
   },
   {
    "duration": 104,
    "start_time": "2023-01-15T22:35:36.701Z"
   },
   {
    "duration": 4,
    "start_time": "2023-01-15T22:35:49.363Z"
   },
   {
    "duration": 19,
    "start_time": "2023-01-15T22:35:50.276Z"
   },
   {
    "duration": 5,
    "start_time": "2023-01-15T22:36:04.181Z"
   },
   {
    "duration": 12,
    "start_time": "2023-01-15T22:45:31.514Z"
   },
   {
    "duration": 4,
    "start_time": "2023-01-15T22:46:34.684Z"
   },
   {
    "duration": 22,
    "start_time": "2023-01-15T22:46:35.482Z"
   },
   {
    "duration": 3,
    "start_time": "2023-01-15T22:46:35.698Z"
   },
   {
    "duration": 19,
    "start_time": "2023-01-15T22:46:36.323Z"
   },
   {
    "duration": 18,
    "start_time": "2023-01-15T22:46:36.982Z"
   },
   {
    "duration": 4,
    "start_time": "2023-01-15T22:46:42.243Z"
   },
   {
    "duration": 6,
    "start_time": "2023-01-15T22:46:42.816Z"
   },
   {
    "duration": 18,
    "start_time": "2023-01-15T22:46:47.543Z"
   },
   {
    "duration": 18,
    "start_time": "2023-01-15T22:47:05.510Z"
   },
   {
    "duration": 10,
    "start_time": "2023-01-15T22:47:19.315Z"
   },
   {
    "duration": 6,
    "start_time": "2023-01-15T22:47:50.311Z"
   },
   {
    "duration": 9,
    "start_time": "2023-01-15T22:48:23.705Z"
   },
   {
    "duration": 9,
    "start_time": "2023-01-15T22:48:54.046Z"
   },
   {
    "duration": 10,
    "start_time": "2023-01-15T22:48:59.706Z"
   },
   {
    "duration": 8,
    "start_time": "2023-01-15T22:49:22.340Z"
   },
   {
    "duration": 3,
    "start_time": "2023-01-15T22:51:03.928Z"
   },
   {
    "duration": 8,
    "start_time": "2023-01-15T22:51:30.414Z"
   },
   {
    "duration": 8,
    "start_time": "2023-01-15T22:53:20.657Z"
   },
   {
    "duration": 8,
    "start_time": "2023-01-15T22:53:30.310Z"
   },
   {
    "duration": 2,
    "start_time": "2023-01-15T22:57:22.266Z"
   },
   {
    "duration": 597,
    "start_time": "2023-01-15T23:12:49.457Z"
   },
   {
    "duration": 4,
    "start_time": "2023-01-15T23:12:50.844Z"
   },
   {
    "duration": 9,
    "start_time": "2023-01-15T23:13:26.546Z"
   },
   {
    "duration": 626,
    "start_time": "2023-01-15T23:13:52.589Z"
   },
   {
    "duration": 5,
    "start_time": "2023-01-15T23:14:00.737Z"
   },
   {
    "duration": 5,
    "start_time": "2023-01-15T23:14:02.596Z"
   },
   {
    "duration": 6,
    "start_time": "2023-01-16T17:28:50.296Z"
   },
   {
    "duration": 3126,
    "start_time": "2023-01-16T17:34:41.243Z"
   },
   {
    "duration": 4,
    "start_time": "2023-01-16T17:34:46.040Z"
   },
   {
    "duration": 5,
    "start_time": "2023-01-16T17:34:48.575Z"
   },
   {
    "duration": 5,
    "start_time": "2023-01-16T17:34:51.738Z"
   },
   {
    "duration": 3410,
    "start_time": "2023-01-16T17:39:41.967Z"
   },
   {
    "duration": 4,
    "start_time": "2023-01-16T17:39:46.556Z"
   },
   {
    "duration": 5,
    "start_time": "2023-01-16T17:39:47.745Z"
   },
   {
    "duration": 5,
    "start_time": "2023-01-16T17:39:48.521Z"
   },
   {
    "duration": 647,
    "start_time": "2023-01-16T17:40:42.658Z"
   },
   {
    "duration": 5,
    "start_time": "2023-01-16T17:40:44.761Z"
   },
   {
    "duration": 5,
    "start_time": "2023-01-16T17:40:45.613Z"
   },
   {
    "duration": 5,
    "start_time": "2023-01-16T17:40:46.572Z"
   },
   {
    "duration": 647,
    "start_time": "2023-01-16T17:41:08.638Z"
   },
   {
    "duration": 4,
    "start_time": "2023-01-16T17:41:10.062Z"
   },
   {
    "duration": 6,
    "start_time": "2023-01-16T17:41:10.857Z"
   },
   {
    "duration": 5,
    "start_time": "2023-01-16T17:41:11.439Z"
   },
   {
    "duration": 653,
    "start_time": "2023-01-16T17:41:16.556Z"
   },
   {
    "duration": 4,
    "start_time": "2023-01-16T17:41:18.327Z"
   },
   {
    "duration": 5,
    "start_time": "2023-01-16T17:41:19.446Z"
   },
   {
    "duration": 6,
    "start_time": "2023-01-16T17:41:20.263Z"
   },
   {
    "duration": 3,
    "start_time": "2023-01-16T18:20:46.992Z"
   },
   {
    "duration": 7,
    "start_time": "2023-01-16T18:20:49.034Z"
   },
   {
    "duration": 4,
    "start_time": "2023-01-16T18:22:45.854Z"
   },
   {
    "duration": 12,
    "start_time": "2023-01-16T18:22:46.913Z"
   },
   {
    "duration": 11,
    "start_time": "2023-01-16T18:22:49.610Z"
   },
   {
    "duration": 8,
    "start_time": "2023-01-16T18:22:50.733Z"
   },
   {
    "duration": 638,
    "start_time": "2023-01-16T18:23:02.145Z"
   },
   {
    "duration": 5,
    "start_time": "2023-01-16T18:23:03.680Z"
   },
   {
    "duration": 6,
    "start_time": "2023-01-16T18:23:04.569Z"
   },
   {
    "duration": 5,
    "start_time": "2023-01-16T18:23:05.430Z"
   },
   {
    "duration": 3701,
    "start_time": "2023-01-16T18:23:26.115Z"
   },
   {
    "duration": 6,
    "start_time": "2023-01-16T18:23:31.104Z"
   },
   {
    "duration": 6,
    "start_time": "2023-01-16T18:23:33.875Z"
   },
   {
    "duration": 7,
    "start_time": "2023-01-16T18:23:35.886Z"
   },
   {
    "duration": 3090,
    "start_time": "2023-01-16T18:23:52.061Z"
   },
   {
    "duration": 6,
    "start_time": "2023-01-16T18:23:56.108Z"
   },
   {
    "duration": 6,
    "start_time": "2023-01-16T18:23:56.980Z"
   },
   {
    "duration": 7,
    "start_time": "2023-01-16T18:23:57.905Z"
   },
   {
    "duration": 6,
    "start_time": "2023-01-16T18:24:49.932Z"
   },
   {
    "duration": 2984,
    "start_time": "2023-01-16T18:30:11.924Z"
   },
   {
    "duration": 6,
    "start_time": "2023-01-16T18:30:18.604Z"
   },
   {
    "duration": 5,
    "start_time": "2023-01-16T18:30:21.526Z"
   },
   {
    "duration": 6,
    "start_time": "2023-01-16T18:30:22.268Z"
   },
   {
    "duration": 11,
    "start_time": "2023-01-16T18:32:48.530Z"
   },
   {
    "duration": 3576,
    "start_time": "2023-01-16T18:33:02.840Z"
   },
   {
    "duration": 4,
    "start_time": "2023-01-16T18:33:09.258Z"
   },
   {
    "duration": 6,
    "start_time": "2023-01-16T18:33:12.031Z"
   },
   {
    "duration": 6,
    "start_time": "2023-01-16T18:33:12.994Z"
   },
   {
    "duration": 20,
    "start_time": "2023-01-16T18:37:46.172Z"
   },
   {
    "duration": 392,
    "start_time": "2023-01-16T18:38:57.808Z"
   },
   {
    "duration": 5,
    "start_time": "2023-01-16T18:38:59.305Z"
   },
   {
    "duration": 5,
    "start_time": "2023-01-16T18:39:00.523Z"
   },
   {
    "duration": 5,
    "start_time": "2023-01-16T18:39:02.305Z"
   },
   {
    "duration": 409,
    "start_time": "2023-01-16T18:39:30.011Z"
   },
   {
    "duration": 4,
    "start_time": "2023-01-16T18:39:31.225Z"
   },
   {
    "duration": 5,
    "start_time": "2023-01-16T18:39:32.155Z"
   },
   {
    "duration": 5,
    "start_time": "2023-01-16T18:39:33.206Z"
   },
   {
    "duration": 371,
    "start_time": "2023-01-16T18:39:57.385Z"
   },
   {
    "duration": 4,
    "start_time": "2023-01-16T18:39:59.140Z"
   },
   {
    "duration": 6,
    "start_time": "2023-01-16T18:39:59.950Z"
   },
   {
    "duration": 4,
    "start_time": "2023-01-16T18:40:00.716Z"
   },
   {
    "duration": 379,
    "start_time": "2023-01-16T18:40:48.208Z"
   },
   {
    "duration": 4,
    "start_time": "2023-01-16T18:40:51.296Z"
   },
   {
    "duration": 5,
    "start_time": "2023-01-16T18:40:52.446Z"
   },
   {
    "duration": 5,
    "start_time": "2023-01-16T18:40:53.254Z"
   },
   {
    "duration": 392,
    "start_time": "2023-01-16T18:41:24.029Z"
   },
   {
    "duration": 4,
    "start_time": "2023-01-16T18:41:25.167Z"
   },
   {
    "duration": 5,
    "start_time": "2023-01-16T18:41:25.753Z"
   },
   {
    "duration": 7,
    "start_time": "2023-01-16T18:41:26.335Z"
   },
   {
    "duration": 405,
    "start_time": "2023-01-16T18:41:31.759Z"
   },
   {
    "duration": 5,
    "start_time": "2023-01-16T18:41:32.846Z"
   },
   {
    "duration": 6,
    "start_time": "2023-01-16T18:41:33.303Z"
   },
   {
    "duration": 5,
    "start_time": "2023-01-16T18:41:33.716Z"
   },
   {
    "duration": 5,
    "start_time": "2023-01-16T18:42:43.606Z"
   },
   {
    "duration": 6,
    "start_time": "2023-01-16T18:42:48.601Z"
   },
   {
    "duration": 6,
    "start_time": "2023-01-16T18:43:04.349Z"
   },
   {
    "duration": 4,
    "start_time": "2023-01-16T18:46:30.063Z"
   },
   {
    "duration": 33,
    "start_time": "2023-01-16T18:46:32.866Z"
   },
   {
    "duration": 5,
    "start_time": "2023-01-16T18:47:00.255Z"
   },
   {
    "duration": 20,
    "start_time": "2023-01-16T18:47:01.758Z"
   },
   {
    "duration": 57,
    "start_time": "2023-01-16T18:47:20.740Z"
   },
   {
    "duration": 4,
    "start_time": "2023-01-16T18:47:49.541Z"
   },
   {
    "duration": 21,
    "start_time": "2023-01-16T18:47:51.947Z"
   },
   {
    "duration": 20,
    "start_time": "2023-01-16T18:47:54.285Z"
   },
   {
    "duration": 54,
    "start_time": "2023-01-16T18:47:56.146Z"
   },
   {
    "duration": 5,
    "start_time": "2023-01-16T18:48:04.220Z"
   },
   {
    "duration": 4,
    "start_time": "2023-01-16T18:48:06.529Z"
   },
   {
    "duration": 13,
    "start_time": "2023-01-16T18:48:43.055Z"
   },
   {
    "duration": 3,
    "start_time": "2023-01-16T18:49:31.869Z"
   },
   {
    "duration": 8,
    "start_time": "2023-01-16T18:49:32.479Z"
   },
   {
    "duration": 8,
    "start_time": "2023-01-16T18:49:33.356Z"
   },
   {
    "duration": 7,
    "start_time": "2023-01-16T18:49:34.100Z"
   },
   {
    "duration": 397,
    "start_time": "2023-01-16T18:49:44.033Z"
   },
   {
    "duration": 4,
    "start_time": "2023-01-16T18:49:44.752Z"
   },
   {
    "duration": 5,
    "start_time": "2023-01-16T18:49:45.636Z"
   },
   {
    "duration": 7,
    "start_time": "2023-01-16T18:49:46.189Z"
   },
   {
    "duration": 5,
    "start_time": "2023-01-16T18:50:14.016Z"
   },
   {
    "duration": 5,
    "start_time": "2023-01-16T18:50:30.495Z"
   },
   {
    "duration": 849,
    "start_time": "2023-01-16T18:59:51.034Z"
   },
   {
    "duration": 4,
    "start_time": "2023-01-16T18:59:53.353Z"
   },
   {
    "duration": 5,
    "start_time": "2023-01-16T18:59:59.161Z"
   },
   {
    "duration": 5,
    "start_time": "2023-01-16T19:00:00.940Z"
   },
   {
    "duration": 853,
    "start_time": "2023-01-16T19:00:12.345Z"
   },
   {
    "duration": 4,
    "start_time": "2023-01-16T19:00:13.697Z"
   },
   {
    "duration": 6,
    "start_time": "2023-01-16T19:00:14.959Z"
   },
   {
    "duration": 5,
    "start_time": "2023-01-16T19:00:15.630Z"
   },
   {
    "duration": 853,
    "start_time": "2023-01-16T19:00:37.434Z"
   },
   {
    "duration": 5,
    "start_time": "2023-01-16T19:00:39.734Z"
   },
   {
    "duration": 5,
    "start_time": "2023-01-16T19:00:41.550Z"
   },
   {
    "duration": 5,
    "start_time": "2023-01-16T19:00:42.707Z"
   },
   {
    "duration": 859,
    "start_time": "2023-01-16T19:00:49.382Z"
   },
   {
    "duration": 4,
    "start_time": "2023-01-16T19:00:50.279Z"
   },
   {
    "duration": 7,
    "start_time": "2023-01-16T19:00:51.151Z"
   },
   {
    "duration": 6,
    "start_time": "2023-01-16T19:00:52.337Z"
   },
   {
    "duration": 878,
    "start_time": "2023-01-16T19:01:09.170Z"
   },
   {
    "duration": 4,
    "start_time": "2023-01-16T19:01:10.051Z"
   },
   {
    "duration": 5,
    "start_time": "2023-01-16T19:01:10.802Z"
   },
   {
    "duration": 5,
    "start_time": "2023-01-16T19:01:11.730Z"
   },
   {
    "duration": 5,
    "start_time": "2023-01-16T19:09:16.794Z"
   },
   {
    "duration": 61,
    "start_time": "2023-01-16T19:09:18.146Z"
   },
   {
    "duration": 112,
    "start_time": "2023-01-16T19:09:20.485Z"
   },
   {
    "duration": 25,
    "start_time": "2023-01-16T19:09:21.764Z"
   },
   {
    "duration": 3,
    "start_time": "2023-01-16T19:09:39.009Z"
   },
   {
    "duration": 17,
    "start_time": "2023-01-16T19:09:39.834Z"
   },
   {
    "duration": 9,
    "start_time": "2023-01-16T19:33:04.911Z"
   },
   {
    "duration": 4,
    "start_time": "2023-01-16T19:33:10.328Z"
   },
   {
    "duration": 9,
    "start_time": "2023-01-16T19:33:10.747Z"
   },
   {
    "duration": 12,
    "start_time": "2023-01-16T19:33:16.250Z"
   },
   {
    "duration": 9,
    "start_time": "2023-01-16T19:33:21.602Z"
   },
   {
    "duration": 45,
    "start_time": "2023-01-16T19:36:23.636Z"
   },
   {
    "duration": 11,
    "start_time": "2023-01-16T19:36:38.273Z"
   },
   {
    "duration": 12,
    "start_time": "2023-01-16T19:36:49.496Z"
   },
   {
    "duration": 18,
    "start_time": "2023-01-16T19:36:59.486Z"
   },
   {
    "duration": 20,
    "start_time": "2023-01-16T19:39:00.030Z"
   },
   {
    "duration": 20,
    "start_time": "2023-01-16T19:39:17.160Z"
   },
   {
    "duration": 3,
    "start_time": "2023-01-16T19:40:05.264Z"
   },
   {
    "duration": 6,
    "start_time": "2023-01-16T19:40:10.963Z"
   },
   {
    "duration": 4,
    "start_time": "2023-01-16T19:43:53.193Z"
   },
   {
    "duration": 22,
    "start_time": "2023-01-16T19:43:59.389Z"
   },
   {
    "duration": 6,
    "start_time": "2023-01-16T19:44:06.963Z"
   },
   {
    "duration": 4,
    "start_time": "2023-01-16T19:44:37.476Z"
   },
   {
    "duration": 18,
    "start_time": "2023-01-16T19:44:38.530Z"
   },
   {
    "duration": 5,
    "start_time": "2023-01-16T19:44:39.976Z"
   },
   {
    "duration": 8,
    "start_time": "2023-01-16T19:45:24.669Z"
   },
   {
    "duration": 4,
    "start_time": "2023-01-16T19:45:34.173Z"
   },
   {
    "duration": 6,
    "start_time": "2023-01-16T19:45:40.154Z"
   },
   {
    "duration": 4,
    "start_time": "2023-01-16T19:47:45.860Z"
   },
   {
    "duration": 22,
    "start_time": "2023-01-16T19:47:46.686Z"
   },
   {
    "duration": 9,
    "start_time": "2023-01-16T19:47:48.617Z"
   },
   {
    "duration": 4,
    "start_time": "2023-01-16T19:50:34.465Z"
   },
   {
    "duration": 19,
    "start_time": "2023-01-16T19:50:36.306Z"
   },
   {
    "duration": 5,
    "start_time": "2023-01-16T19:50:42.158Z"
   },
   {
    "duration": 3,
    "start_time": "2023-01-16T19:51:12.684Z"
   },
   {
    "duration": 9,
    "start_time": "2023-01-16T19:51:13.479Z"
   },
   {
    "duration": 21,
    "start_time": "2023-01-16T19:51:14.574Z"
   },
   {
    "duration": 20,
    "start_time": "2023-01-16T19:51:40.519Z"
   },
   {
    "duration": 26,
    "start_time": "2023-01-16T19:51:41.886Z"
   },
   {
    "duration": 9,
    "start_time": "2023-01-16T19:51:47.574Z"
   },
   {
    "duration": 1336,
    "start_time": "2023-01-16T19:52:55.571Z"
   },
   {
    "duration": 5,
    "start_time": "2023-01-16T19:53:10.251Z"
   },
   {
    "duration": 5,
    "start_time": "2023-01-16T19:53:12.052Z"
   },
   {
    "duration": 5,
    "start_time": "2023-01-16T19:53:13.461Z"
   },
   {
    "duration": 49,
    "start_time": "2023-01-16T19:58:10.324Z"
   },
   {
    "duration": 5,
    "start_time": "2023-01-16T19:58:33.705Z"
   },
   {
    "duration": 1403,
    "start_time": "2023-01-16T19:58:59.747Z"
   },
   {
    "duration": 1309,
    "start_time": "2023-01-16T19:59:26.537Z"
   },
   {
    "duration": 1355,
    "start_time": "2023-01-16T19:59:42.944Z"
   },
   {
    "duration": 4,
    "start_time": "2023-01-16T20:01:41.957Z"
   },
   {
    "duration": 1327,
    "start_time": "2023-01-16T20:01:43.008Z"
   },
   {
    "duration": 1331,
    "start_time": "2023-01-16T20:01:44.336Z"
   },
   {
    "duration": 1362,
    "start_time": "2023-01-16T20:01:45.668Z"
   },
   {
    "duration": 4,
    "start_time": "2023-01-16T20:02:56.775Z"
   },
   {
    "duration": 1345,
    "start_time": "2023-01-16T20:02:57.452Z"
   },
   {
    "duration": 1355,
    "start_time": "2023-01-16T20:03:00.813Z"
   },
   {
    "duration": 1313,
    "start_time": "2023-01-16T20:03:02.170Z"
   },
   {
    "duration": 3,
    "start_time": "2023-01-16T20:03:46.431Z"
   },
   {
    "duration": 10,
    "start_time": "2023-01-16T20:03:47.203Z"
   },
   {
    "duration": 9,
    "start_time": "2023-01-16T20:03:47.972Z"
   },
   {
    "duration": 9,
    "start_time": "2023-01-16T20:03:48.835Z"
   },
   {
    "duration": 8,
    "start_time": "2023-01-16T20:10:15.599Z"
   },
   {
    "duration": 1414,
    "start_time": "2023-01-16T20:10:16.685Z"
   },
   {
    "duration": 1331,
    "start_time": "2023-01-16T20:10:21.216Z"
   },
   {
    "duration": 1057,
    "start_time": "2023-01-16T20:21:40.415Z"
   },
   {
    "duration": 403,
    "start_time": "2023-01-16T20:21:41.474Z"
   },
   {
    "duration": 21,
    "start_time": "2023-01-16T20:21:41.878Z"
   },
   {
    "duration": 12,
    "start_time": "2023-01-16T20:21:41.901Z"
   },
   {
    "duration": 53,
    "start_time": "2023-01-16T20:21:41.915Z"
   },
   {
    "duration": 30,
    "start_time": "2023-01-16T20:21:41.969Z"
   },
   {
    "duration": 4,
    "start_time": "2023-01-16T20:21:42.000Z"
   },
   {
    "duration": 11,
    "start_time": "2023-01-16T20:21:42.006Z"
   },
   {
    "duration": 9,
    "start_time": "2023-01-16T20:21:42.019Z"
   },
   {
    "duration": 17,
    "start_time": "2023-01-16T20:21:42.029Z"
   },
   {
    "duration": 9,
    "start_time": "2023-01-16T20:21:42.047Z"
   },
   {
    "duration": 12,
    "start_time": "2023-01-16T20:21:42.058Z"
   },
   {
    "duration": 72,
    "start_time": "2023-01-16T20:21:42.071Z"
   },
   {
    "duration": 16,
    "start_time": "2023-01-16T20:21:42.147Z"
   },
   {
    "duration": 5,
    "start_time": "2023-01-16T20:21:42.166Z"
   },
   {
    "duration": 8,
    "start_time": "2023-01-16T20:21:42.197Z"
   },
   {
    "duration": 6,
    "start_time": "2023-01-16T20:21:42.207Z"
   },
   {
    "duration": 20,
    "start_time": "2023-01-16T20:21:42.215Z"
   },
   {
    "duration": 10,
    "start_time": "2023-01-16T20:21:42.237Z"
   },
   {
    "duration": 12,
    "start_time": "2023-01-16T20:21:42.248Z"
   },
   {
    "duration": 76,
    "start_time": "2023-01-16T20:21:42.262Z"
   },
   {
    "duration": 13,
    "start_time": "2023-01-16T20:21:42.340Z"
   },
   {
    "duration": 5,
    "start_time": "2023-01-16T20:21:42.354Z"
   },
   {
    "duration": 9,
    "start_time": "2023-01-16T20:21:42.361Z"
   },
   {
    "duration": 26,
    "start_time": "2023-01-16T20:21:42.371Z"
   },
   {
    "duration": 13,
    "start_time": "2023-01-16T20:21:42.398Z"
   },
   {
    "duration": 3,
    "start_time": "2023-01-16T20:21:42.413Z"
   },
   {
    "duration": 20,
    "start_time": "2023-01-16T20:21:42.417Z"
   },
   {
    "duration": 105,
    "start_time": "2023-01-16T20:21:42.498Z"
   },
   {
    "duration": 192,
    "start_time": "2023-01-16T20:21:42.605Z"
   },
   {
    "duration": 4,
    "start_time": "2023-01-16T20:21:42.799Z"
   },
   {
    "duration": 94,
    "start_time": "2023-01-16T20:21:42.804Z"
   },
   {
    "duration": 22,
    "start_time": "2023-01-16T20:21:42.899Z"
   },
   {
    "duration": 9,
    "start_time": "2023-01-16T20:21:42.922Z"
   },
   {
    "duration": 9,
    "start_time": "2023-01-16T20:21:42.933Z"
   },
   {
    "duration": 5,
    "start_time": "2023-01-16T20:21:42.943Z"
   },
   {
    "duration": 1394,
    "start_time": "2023-01-16T20:21:42.949Z"
   },
   {
    "duration": 1468,
    "start_time": "2023-01-16T20:21:44.345Z"
   },
   {
    "duration": 1434,
    "start_time": "2023-01-16T20:21:45.815Z"
   },
   {
    "duration": 3,
    "start_time": "2023-01-17T11:34:40.485Z"
   },
   {
    "duration": 4,
    "start_time": "2023-01-17T11:35:33.191Z"
   },
   {
    "duration": 3,
    "start_time": "2023-01-17T11:39:58.433Z"
   },
   {
    "duration": 9,
    "start_time": "2023-01-17T11:40:13.866Z"
   },
   {
    "duration": 8,
    "start_time": "2023-01-17T11:40:14.813Z"
   },
   {
    "duration": 10,
    "start_time": "2023-01-17T11:40:15.291Z"
   },
   {
    "duration": 4,
    "start_time": "2023-01-17T11:42:41.504Z"
   },
   {
    "duration": 1348,
    "start_time": "2023-01-17T11:42:49.658Z"
   },
   {
    "duration": 1351,
    "start_time": "2023-01-17T11:42:59.352Z"
   },
   {
    "duration": 1309,
    "start_time": "2023-01-17T11:43:04.027Z"
   },
   {
    "duration": 4,
    "start_time": "2023-01-17T11:55:29.194Z"
   },
   {
    "duration": 1809,
    "start_time": "2023-01-17T11:55:33.373Z"
   },
   {
    "duration": 1486,
    "start_time": "2023-01-17T11:56:00.086Z"
   },
   {
    "duration": 1441,
    "start_time": "2023-01-17T11:56:11.106Z"
   },
   {
    "duration": 4,
    "start_time": "2023-01-17T11:59:43.031Z"
   },
   {
    "duration": 1448,
    "start_time": "2023-01-17T11:59:46.899Z"
   },
   {
    "duration": 9,
    "start_time": "2023-01-17T12:00:07.051Z"
   },
   {
    "duration": 4,
    "start_time": "2023-01-17T12:00:14.817Z"
   },
   {
    "duration": 5,
    "start_time": "2023-01-17T12:00:41.255Z"
   },
   {
    "duration": 6,
    "start_time": "2023-01-17T12:01:28.207Z"
   },
   {
    "duration": 5,
    "start_time": "2023-01-17T12:03:19.306Z"
   },
   {
    "duration": 1652,
    "start_time": "2023-01-17T12:03:25.782Z"
   },
   {
    "duration": 5,
    "start_time": "2023-01-17T12:04:03.384Z"
   },
   {
    "duration": 1649,
    "start_time": "2023-01-17T12:04:05.315Z"
   },
   {
    "duration": 5,
    "start_time": "2023-01-17T12:04:21.998Z"
   },
   {
    "duration": 1340,
    "start_time": "2023-01-17T12:04:24.018Z"
   },
   {
    "duration": 1348,
    "start_time": "2023-01-17T12:04:38.133Z"
   },
   {
    "duration": 1355,
    "start_time": "2023-01-17T12:04:42.626Z"
   },
   {
    "duration": 44,
    "start_time": "2023-01-17T12:08:42.745Z"
   }
  ],
  "colab": {
   "provenance": [],
   "toc_visible": true
  },
  "kernelspec": {
   "display_name": "Python 3 (ipykernel)",
   "language": "python",
   "name": "python3"
  },
  "language_info": {
   "codemirror_mode": {
    "name": "ipython",
    "version": 3
   },
   "file_extension": ".py",
   "mimetype": "text/x-python",
   "name": "python",
   "nbconvert_exporter": "python",
   "pygments_lexer": "ipython3",
   "version": "3.9.12"
  },
  "toc": {
   "base_numbering": 1,
   "nav_menu": {},
   "number_sections": true,
   "sideBar": true,
   "skip_h1_title": true,
   "title_cell": "Table of Contents",
   "title_sidebar": "Contents",
   "toc_cell": false,
   "toc_position": {},
   "toc_section_display": true,
   "toc_window_display": true
  },
  "varInspector": {
   "cols": {
    "lenName": 16,
    "lenType": 16,
    "lenVar": 40
   },
   "kernels_config": {
    "python": {
     "delete_cmd_postfix": "",
     "delete_cmd_prefix": "del ",
     "library": "var_list.py",
     "varRefreshCmd": "print(var_dic_list())"
    },
    "r": {
     "delete_cmd_postfix": ") ",
     "delete_cmd_prefix": "rm(",
     "library": "var_list.r",
     "varRefreshCmd": "cat(var_dic_list()) "
    }
   },
   "types_to_exclude": [
    "module",
    "function",
    "builtin_function_or_method",
    "instance",
    "_Feature"
   ],
   "window_display": false
  }
 },
 "nbformat": 4,
 "nbformat_minor": 1
}
